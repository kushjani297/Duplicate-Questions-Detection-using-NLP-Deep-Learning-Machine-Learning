{
 "cells": [
  {
   "cell_type": "markdown",
   "metadata": {
    "id": "aGcv6Z2pz5uo"
   },
   "source": [
    "# **Detection of Duplicate Questions**"
   ]
  },
  {
   "cell_type": "markdown",
   "metadata": {
    "id": "CgivriAY0HWc"
   },
   "source": [
    "**Exploratory Data Analysis(EDA)**\n"
   ]
  },
  {
   "cell_type": "code",
   "execution_count": 47,
   "metadata": {
    "id": "mU5U8rv3jOml"
   },
   "outputs": [],
   "source": [
    "# Importing Libraries\n",
    "# SEABORN AND MATPLOTLIB is for Data Visualization, we will use those in EDA as well.\n",
    "import numpy as np\n",
    "import pandas as pd\n",
    "import seaborn as sns\n",
    "import matplotlib.pyplot as plt"
   ]
  },
  {
   "cell_type": "code",
   "execution_count": 48,
   "metadata": {},
   "outputs": [],
   "source": [
    "df = pd.read_csv('/Users/kushjani/Documents/Documents/Stevens/Study/Semester 2/NLP/Project/questions.csv')"
   ]
  },
  {
   "cell_type": "code",
   "execution_count": 49,
   "metadata": {
    "colab": {
     "base_uri": "https://localhost:8080/"
    },
    "id": "Ls2-0FOnkLWA",
    "outputId": "993dd4b3-8584-43d1-f9bf-e4d595e9473e"
   },
   "outputs": [
    {
     "name": "stdout",
     "output_type": "stream",
     "text": [
      "<class 'pandas.core.frame.DataFrame'>\n",
      "RangeIndex: 404351 entries, 0 to 404350\n",
      "Data columns (total 6 columns):\n",
      " #   Column        Non-Null Count   Dtype \n",
      "---  ------        --------------   ----- \n",
      " 0   id            404351 non-null  int64 \n",
      " 1   qid1          404351 non-null  int64 \n",
      " 2   qid2          404351 non-null  int64 \n",
      " 3   question1     404350 non-null  object\n",
      " 4   question2     404349 non-null  object\n",
      " 5   is_duplicate  404351 non-null  int64 \n",
      "dtypes: int64(4), object(2)\n",
      "memory usage: 18.5+ MB\n"
     ]
    }
   ],
   "source": [
    "# To chech whether our data contains Null values or not we will check basic information of our data\n",
    "df.info()"
   ]
  },
  {
   "cell_type": "code",
   "execution_count": 50,
   "metadata": {
    "colab": {
     "base_uri": "https://localhost:8080/"
    },
    "id": "d8j5DSsdpywG",
    "outputId": "3c719899-2ad0-4604-addc-9b71e1c574be"
   },
   "outputs": [
    {
     "data": {
      "text/plain": [
       "id              0\n",
       "qid1            0\n",
       "qid2            0\n",
       "question1       1\n",
       "question2       2\n",
       "is_duplicate    0\n",
       "dtype: int64"
      ]
     },
     "execution_count": 50,
     "metadata": {},
     "output_type": "execute_result"
    }
   ],
   "source": [
    "# To double verify we will check missing values as well \n",
    "df.isnull().sum()\n",
    "\n",
    "# As per results there are 1 missing values in Question 1 and 2 in Question 2, we will handle this misisng values later."
   ]
  },
  {
   "cell_type": "code",
   "execution_count": 51,
   "metadata": {
    "colab": {
     "base_uri": "https://localhost:8080/"
    },
    "id": "l3xCbvbWs0iI",
    "outputId": "b7848064-f59a-445f-ad7c-6a7b839fa9ab"
   },
   "outputs": [
    {
     "data": {
      "text/plain": [
       "0"
      ]
     },
     "execution_count": 51,
     "metadata": {},
     "output_type": "execute_result"
    }
   ],
   "source": [
    "# Also we need to check whether our data contains Duplicate values or not\n",
    "df.duplicated().sum()\n",
    "\n",
    "# As per reuluts we can say that there are no duplicate value sin our data"
   ]
  },
  {
   "cell_type": "code",
   "execution_count": 52,
   "metadata": {
    "colab": {
     "base_uri": "https://localhost:8080/",
     "height": 337
    },
    "id": "2KoJs5kakVm1",
    "outputId": "31f2407c-2648-43a9-aa6e-b4f4c34ce64d"
   },
   "outputs": [
    {
     "data": {
      "text/html": [
       "<div>\n",
       "<style scoped>\n",
       "    .dataframe tbody tr th:only-of-type {\n",
       "        vertical-align: middle;\n",
       "    }\n",
       "\n",
       "    .dataframe tbody tr th {\n",
       "        vertical-align: top;\n",
       "    }\n",
       "\n",
       "    .dataframe thead th {\n",
       "        text-align: right;\n",
       "    }\n",
       "</style>\n",
       "<table border=\"1\" class=\"dataframe\">\n",
       "  <thead>\n",
       "    <tr style=\"text-align: right;\">\n",
       "      <th></th>\n",
       "      <th>id</th>\n",
       "      <th>qid1</th>\n",
       "      <th>qid2</th>\n",
       "      <th>question1</th>\n",
       "      <th>question2</th>\n",
       "      <th>is_duplicate</th>\n",
       "    </tr>\n",
       "  </thead>\n",
       "  <tbody>\n",
       "    <tr>\n",
       "      <th>0</th>\n",
       "      <td>0</td>\n",
       "      <td>1</td>\n",
       "      <td>2</td>\n",
       "      <td>What is the step by step guide to invest in sh...</td>\n",
       "      <td>What is the step by step guide to invest in sh...</td>\n",
       "      <td>0</td>\n",
       "    </tr>\n",
       "    <tr>\n",
       "      <th>1</th>\n",
       "      <td>1</td>\n",
       "      <td>3</td>\n",
       "      <td>4</td>\n",
       "      <td>What is the story of Kohinoor (Koh-i-Noor) Dia...</td>\n",
       "      <td>What would happen if the Indian government sto...</td>\n",
       "      <td>0</td>\n",
       "    </tr>\n",
       "    <tr>\n",
       "      <th>2</th>\n",
       "      <td>2</td>\n",
       "      <td>5</td>\n",
       "      <td>6</td>\n",
       "      <td>How can I increase the speed of my internet co...</td>\n",
       "      <td>How can Internet speed be increased by hacking...</td>\n",
       "      <td>0</td>\n",
       "    </tr>\n",
       "    <tr>\n",
       "      <th>3</th>\n",
       "      <td>3</td>\n",
       "      <td>7</td>\n",
       "      <td>8</td>\n",
       "      <td>Why am I mentally very lonely? How can I solve...</td>\n",
       "      <td>Find the remainder when [math]23^{24}[/math] i...</td>\n",
       "      <td>0</td>\n",
       "    </tr>\n",
       "    <tr>\n",
       "      <th>4</th>\n",
       "      <td>4</td>\n",
       "      <td>9</td>\n",
       "      <td>10</td>\n",
       "      <td>Which one dissolve in water quikly sugar, salt...</td>\n",
       "      <td>Which fish would survive in salt water?</td>\n",
       "      <td>0</td>\n",
       "    </tr>\n",
       "  </tbody>\n",
       "</table>\n",
       "</div>"
      ],
      "text/plain": [
       "   id  qid1  qid2                                          question1  \\\n",
       "0   0     1     2  What is the step by step guide to invest in sh...   \n",
       "1   1     3     4  What is the story of Kohinoor (Koh-i-Noor) Dia...   \n",
       "2   2     5     6  How can I increase the speed of my internet co...   \n",
       "3   3     7     8  Why am I mentally very lonely? How can I solve...   \n",
       "4   4     9    10  Which one dissolve in water quikly sugar, salt...   \n",
       "\n",
       "                                           question2  is_duplicate  \n",
       "0  What is the step by step guide to invest in sh...             0  \n",
       "1  What would happen if the Indian government sto...             0  \n",
       "2  How can Internet speed be increased by hacking...             0  \n",
       "3  Find the remainder when [math]23^{24}[/math] i...             0  \n",
       "4            Which fish would survive in salt water?             0  "
      ]
     },
     "execution_count": 52,
     "metadata": {},
     "output_type": "execute_result"
    }
   ],
   "source": [
    "df.head()"
   ]
  },
  {
   "cell_type": "code",
   "execution_count": 53,
   "metadata": {
    "colab": {
     "base_uri": "https://localhost:8080/"
    },
    "id": "APiCYqFwktZJ",
    "outputId": "e2b37ad0-95a6-4c77-d791-098831b14e50"
   },
   "outputs": [
    {
     "data": {
      "text/plain": [
       "(404351, 6)"
      ]
     },
     "execution_count": 53,
     "metadata": {},
     "output_type": "execute_result"
    }
   ],
   "source": [
    "# To check the number of rows and columns of data (Dimensions) we will use df.shape\n",
    "df.shape"
   ]
  },
  {
   "cell_type": "code",
   "execution_count": 54,
   "metadata": {
    "colab": {
     "base_uri": "https://localhost:8080/"
    },
    "id": "EE3uOK7xmeNM",
    "outputId": "f2fdda6b-581e-4df1-bdad-d894cbf7036f"
   },
   "outputs": [
    {
     "name": "stdout",
     "output_type": "stream",
     "text": [
      "0    255045\n",
      "1    149306\n",
      "Name: is_duplicate, dtype: int64\n"
     ]
    }
   ],
   "source": [
    "# Let's check some stats of our duplicate and non-duplicate question pairs\n",
    "print(df['is_duplicate'].value_counts())"
   ]
  },
  {
   "cell_type": "code",
   "execution_count": 55,
   "metadata": {
    "colab": {
     "base_uri": "https://localhost:8080/"
    },
    "id": "eZ4Kmj6Cumya",
    "outputId": "25e41039-f9a9-49eb-f924-755ef7b8d258"
   },
   "outputs": [
    {
     "name": "stdout",
     "output_type": "stream",
     "text": [
      "0    63.07515\n",
      "1    36.92485\n",
      "Name: is_duplicate, dtype: float64\n"
     ]
    }
   ],
   "source": [
    "# Let's check that how much percentage of duplicate and non duplicate question pairs are there\n",
    "print((df['is_duplicate'].value_counts()/df['is_duplicate'].count())*100)\n",
    "\n",
    "# As per results 63.07% of data is non-duplicate and 36.92% od data is duplicate"
   ]
  },
  {
   "cell_type": "code",
   "execution_count": 56,
   "metadata": {
    "colab": {
     "base_uri": "https://localhost:8080/",
     "height": 279
    },
    "id": "3hJUAxwEvQeE",
    "outputId": "f4eab38d-4379-4791-e0e2-2932f4c80d3c"
   },
   "outputs": [
    {
     "data": {
      "text/plain": [
       "<AxesSubplot:>"
      ]
     },
     "execution_count": 56,
     "metadata": {},
     "output_type": "execute_result"
    },
    {
     "data": {
      "image/png": "[encoded data removed]",
      "text/plain": [
       "<Figure size 432x288 with 1 Axes>"
      ]
     },
     "metadata": {
      "needs_background": "light"
     },
     "output_type": "display_data"
    }
   ],
   "source": [
    "# Let's do visulization of this stats we calculated using barplot\n",
    "df['is_duplicate'].value_counts().plot(kind='bar')\n",
    "\n",
    "# From our graph we can say that our data is bit unbalanced, it is more 0 side"
   ]
  },
  {
   "cell_type": "code",
   "execution_count": 57,
   "metadata": {
    "colab": {
     "base_uri": "https://localhost:8080/"
    },
    "id": "BX50G1XTv7Qs",
    "outputId": "80261de3-135a-4542-bf6d-49de41a61c56"
   },
   "outputs": [
    {
     "name": "stdout",
     "output_type": "stream",
     "text": [
      "Unique Question:  789801\n",
      "Repeated Questions:  13698\n"
     ]
    }
   ],
   "source": [
    "# we have around 4lakh+ questions in Question1 attribute and around 4lakh+ in Question2 attribute\n",
    "# So from total 8lakh questions let's check how many are repeated and non-repeated\n",
    "\n",
    "Question_id = pd.Series(df['qid1'].tolist() + df['qid2'].tolist())\n",
    "print('Unique Question: ', np.unique(Question_id).shape[0])\n",
    "x = Question_id.value_counts()>1\n",
    "print('Repeated Questions: ', x[x].shape[0])\n",
    "\n",
    "\n",
    "# As per results we can say that there are 7,89,801 Unique Questions and 13,698 Duplicate Questions"
   ]
  },
  {
   "cell_type": "code",
   "execution_count": 58,
   "metadata": {
    "colab": {
     "base_uri": "https://localhost:8080/",
     "height": 265
    },
    "id": "69sE89t1yDUe",
    "outputId": "8c6631eb-9bdb-4362-db3e-2b60ae3c47b4"
   },
   "outputs": [
    {
     "data": {
      "image/png": "[encoded data removed]",
      "text/plain": [
       "<Figure size 432x288 with 1 Axes>"
      ]
     },
     "metadata": {
      "needs_background": "light"
     },
     "output_type": "display_data"
    }
   ],
   "source": [
    "# Let's make a histogram plot for above outcomes\n",
    "plt.hist(Question_id.value_counts().values, bins = 100)\n",
    "plt.yscale('log')\n",
    "plt.show()"
   ]
  },
  {
   "cell_type": "code",
   "execution_count": 59,
   "metadata": {},
   "outputs": [],
   "source": [
    "# Whene we are working in a such a huge dataset it is to difficult to implement model, \n",
    "# even it is also hard for machine to run 4 lkh+ rows and give output, it is too much time consuming,\n",
    "# in order to reduce our time complexity we are minimizing our data set into 30000\n",
    "NEW_df = df.sample(30000, random_state = 1)\n",
    "# we are using random_state parameter so that everytime when we select random_state=1 we get same random pairs"
   ]
  },
  {
   "cell_type": "code",
   "execution_count": 184,
   "metadata": {},
   "outputs": [
    {
     "name": "stdout",
     "output_type": "stream",
     "text": [
      "<class 'pandas.core.frame.DataFrame'>\n",
      "Int64Index: 30000 entries, 33270 to 67253\n",
      "Data columns (total 13 columns):\n",
      " #   Column          Non-Null Count  Dtype  \n",
      "---  ------          --------------  -----  \n",
      " 0   id              30000 non-null  int64  \n",
      " 1   qid1            30000 non-null  int64  \n",
      " 2   qid2            30000 non-null  int64  \n",
      " 3   question1       30000 non-null  object \n",
      " 4   question2       30000 non-null  object \n",
      " 5   is_duplicate    30000 non-null  int64  \n",
      " 6   Length_Q1       30000 non-null  int64  \n",
      " 7   Length_Q2       30000 non-null  int64  \n",
      " 8   #_words_Q1      30000 non-null  int64  \n",
      " 9   #_words_Q2      30000 non-null  int64  \n",
      " 10  #_common_words  30000 non-null  int64  \n",
      " 11  Total_Words     30000 non-null  int64  \n",
      " 12  Share_Words     30000 non-null  float64\n",
      "dtypes: float64(1), int64(10), object(2)\n",
      "memory usage: 3.2+ MB\n"
     ]
    }
   ],
   "source": [
    "NEW_df.info()"
   ]
  },
  {
   "cell_type": "code",
   "execution_count": 60,
   "metadata": {},
   "outputs": [
    {
     "data": {
      "text/plain": [
       "id              0\n",
       "qid1            0\n",
       "qid2            0\n",
       "question1       0\n",
       "question2       0\n",
       "is_duplicate    0\n",
       "dtype: int64"
      ]
     },
     "execution_count": 60,
     "metadata": {},
     "output_type": "execute_result"
    }
   ],
   "source": [
    "# Let's check do we have any null values in our new Data frame or not\n",
    "NEW_df.isnull().sum()\n",
    "\n",
    "# Fortunetly in our new data frame there are no null values"
   ]
  },
  {
   "cell_type": "code",
   "execution_count": 61,
   "metadata": {},
   "outputs": [
    {
     "data": {
      "text/plain": [
       "0"
      ]
     },
     "execution_count": 61,
     "metadata": {},
     "output_type": "execute_result"
    }
   ],
   "source": [
    "# Let's check do we have any duplicate values or not in our new_df\n",
    "NEW_df.duplicated().sum()\n",
    "\n",
    "# As per the outcome we do not have any duplicate rows here"
   ]
  },
  {
   "cell_type": "code",
   "execution_count": 62,
   "metadata": {
    "colab": {
     "base_uri": "https://localhost:8080/",
     "height": 206
    },
    "id": "5lAdRGo3PUKe",
    "outputId": "0e2048d2-691c-4b11-a156-ec16cf435381"
   },
   "outputs": [
    {
     "data": {
      "text/html": [
       "<div>\n",
       "<style scoped>\n",
       "    .dataframe tbody tr th:only-of-type {\n",
       "        vertical-align: middle;\n",
       "    }\n",
       "\n",
       "    .dataframe tbody tr th {\n",
       "        vertical-align: top;\n",
       "    }\n",
       "\n",
       "    .dataframe thead th {\n",
       "        text-align: right;\n",
       "    }\n",
       "</style>\n",
       "<table border=\"1\" class=\"dataframe\">\n",
       "  <thead>\n",
       "    <tr style=\"text-align: right;\">\n",
       "      <th></th>\n",
       "      <th>question1</th>\n",
       "      <th>question2</th>\n",
       "    </tr>\n",
       "  </thead>\n",
       "  <tbody>\n",
       "    <tr>\n",
       "      <th>33270</th>\n",
       "      <td>How do you turn on a Honeywell thermostat?</td>\n",
       "      <td>How do you set a Honeywell Thermostat?</td>\n",
       "    </tr>\n",
       "    <tr>\n",
       "      <th>105697</th>\n",
       "      <td>What are some of the reasons for not wearing j...</td>\n",
       "      <td>Which satellite does Multichoice use?</td>\n",
       "    </tr>\n",
       "    <tr>\n",
       "      <th>264166</th>\n",
       "      <td>What is scientific proof or explanation for gh...</td>\n",
       "      <td>Can science explain the existence of ghosts?</td>\n",
       "    </tr>\n",
       "    <tr>\n",
       "      <th>307014</th>\n",
       "      <td>Which places I should visit in jaipur?</td>\n",
       "      <td>Which places one should visit in chandigarh?</td>\n",
       "    </tr>\n",
       "    <tr>\n",
       "      <th>256448</th>\n",
       "      <td>What was the Boxer Rebellion?</td>\n",
       "      <td>What was the Boxer Rebellion about?</td>\n",
       "    </tr>\n",
       "  </tbody>\n",
       "</table>\n",
       "</div>"
      ],
      "text/plain": [
       "                                                question1  \\\n",
       "33270          How do you turn on a Honeywell thermostat?   \n",
       "105697  What are some of the reasons for not wearing j...   \n",
       "264166  What is scientific proof or explanation for gh...   \n",
       "307014             Which places I should visit in jaipur?   \n",
       "256448                      What was the Boxer Rebellion?   \n",
       "\n",
       "                                           question2  \n",
       "33270         How do you set a Honeywell Thermostat?  \n",
       "105697         Which satellite does Multichoice use?  \n",
       "264166  Can science explain the existence of ghosts?  \n",
       "307014  Which places one should visit in chandigarh?  \n",
       "256448           What was the Boxer Rebellion about?  "
      ]
     },
     "execution_count": 62,
     "metadata": {},
     "output_type": "execute_result"
    }
   ],
   "source": [
    "# Let's make a Questions Data frame in which we only have question pairs, we will avaoid other attributes here\n",
    "questions_df = NEW_df[['question1','question2']]\n",
    "questions_df.head()"
   ]
  },
  {
   "cell_type": "code",
   "execution_count": 63,
   "metadata": {
    "colab": {
     "base_uri": "https://localhost:8080/",
     "height": 347
    },
    "id": "qWz7uursPKUk",
    "outputId": "9040fcdc-6180-4228-acea-44f21724e066"
   },
   "outputs": [],
   "source": [
    "from sklearn.feature_extraction.text import CountVectorizer # Importing Count Vectorizer function \n",
    "# merging texts\n",
    "merge_questions_df = list(questions_df['question1']) + list(questions_df['question2']) # Creating list of Question1 and Question 2\n",
    "\n",
    "v = CountVectorizer(max_features=3000) # limiting features to 3000\n",
    "q1_arr, q2_arr = np.vsplit(v.fit_transform(merge_questions_df).toarray(),2) # Implimenting transform"
   ]
  },
  {
   "cell_type": "code",
   "execution_count": 64,
   "metadata": {},
   "outputs": [
    {
     "data": {
      "text/plain": [
       "(30000, 6000)"
      ]
     },
     "execution_count": 64,
     "metadata": {},
     "output_type": "execute_result"
    }
   ],
   "source": [
    "temp_df1 = pd.DataFrame(q1_arr, index= ques_df.index)\n",
    "temp_df2 = pd.DataFrame(q2_arr, index= ques_df.index)\n",
    "temp_df = pd.concat([temp_df1, temp_df2], axis=1)\n",
    "temp_df.shape\n",
    "# As per result we now have 6000 feautures, from that 3000 bag of words are of question1 and 3000 bag of words are for question2"
   ]
  },
  {
   "cell_type": "code",
   "execution_count": 65,
   "metadata": {},
   "outputs": [
    {
     "data": {
      "text/html": [
       "<div>\n",
       "<style scoped>\n",
       "    .dataframe tbody tr th:only-of-type {\n",
       "        vertical-align: middle;\n",
       "    }\n",
       "\n",
       "    .dataframe tbody tr th {\n",
       "        vertical-align: top;\n",
       "    }\n",
       "\n",
       "    .dataframe thead th {\n",
       "        text-align: right;\n",
       "    }\n",
       "</style>\n",
       "<table border=\"1\" class=\"dataframe\">\n",
       "  <thead>\n",
       "    <tr style=\"text-align: right;\">\n",
       "      <th></th>\n",
       "      <th>0</th>\n",
       "      <th>1</th>\n",
       "      <th>2</th>\n",
       "      <th>3</th>\n",
       "      <th>4</th>\n",
       "      <th>5</th>\n",
       "      <th>6</th>\n",
       "      <th>7</th>\n",
       "      <th>8</th>\n",
       "      <th>9</th>\n",
       "      <th>...</th>\n",
       "      <th>2990</th>\n",
       "      <th>2991</th>\n",
       "      <th>2992</th>\n",
       "      <th>2993</th>\n",
       "      <th>2994</th>\n",
       "      <th>2995</th>\n",
       "      <th>2996</th>\n",
       "      <th>2997</th>\n",
       "      <th>2998</th>\n",
       "      <th>2999</th>\n",
       "    </tr>\n",
       "  </thead>\n",
       "  <tbody>\n",
       "    <tr>\n",
       "      <th>193380</th>\n",
       "      <td>0</td>\n",
       "      <td>0</td>\n",
       "      <td>0</td>\n",
       "      <td>0</td>\n",
       "      <td>0</td>\n",
       "      <td>0</td>\n",
       "      <td>0</td>\n",
       "      <td>0</td>\n",
       "      <td>0</td>\n",
       "      <td>0</td>\n",
       "      <td>...</td>\n",
       "      <td>0</td>\n",
       "      <td>0</td>\n",
       "      <td>1</td>\n",
       "      <td>0</td>\n",
       "      <td>0</td>\n",
       "      <td>0</td>\n",
       "      <td>0</td>\n",
       "      <td>0</td>\n",
       "      <td>0</td>\n",
       "      <td>0</td>\n",
       "    </tr>\n",
       "    <tr>\n",
       "      <th>72666</th>\n",
       "      <td>0</td>\n",
       "      <td>0</td>\n",
       "      <td>0</td>\n",
       "      <td>0</td>\n",
       "      <td>0</td>\n",
       "      <td>0</td>\n",
       "      <td>0</td>\n",
       "      <td>0</td>\n",
       "      <td>0</td>\n",
       "      <td>0</td>\n",
       "      <td>...</td>\n",
       "      <td>0</td>\n",
       "      <td>0</td>\n",
       "      <td>0</td>\n",
       "      <td>0</td>\n",
       "      <td>0</td>\n",
       "      <td>0</td>\n",
       "      <td>0</td>\n",
       "      <td>0</td>\n",
       "      <td>0</td>\n",
       "      <td>0</td>\n",
       "    </tr>\n",
       "    <tr>\n",
       "      <th>296747</th>\n",
       "      <td>0</td>\n",
       "      <td>0</td>\n",
       "      <td>0</td>\n",
       "      <td>0</td>\n",
       "      <td>0</td>\n",
       "      <td>0</td>\n",
       "      <td>0</td>\n",
       "      <td>0</td>\n",
       "      <td>0</td>\n",
       "      <td>0</td>\n",
       "      <td>...</td>\n",
       "      <td>0</td>\n",
       "      <td>0</td>\n",
       "      <td>0</td>\n",
       "      <td>0</td>\n",
       "      <td>0</td>\n",
       "      <td>0</td>\n",
       "      <td>0</td>\n",
       "      <td>0</td>\n",
       "      <td>0</td>\n",
       "      <td>0</td>\n",
       "    </tr>\n",
       "    <tr>\n",
       "      <th>114127</th>\n",
       "      <td>0</td>\n",
       "      <td>0</td>\n",
       "      <td>0</td>\n",
       "      <td>0</td>\n",
       "      <td>0</td>\n",
       "      <td>0</td>\n",
       "      <td>0</td>\n",
       "      <td>0</td>\n",
       "      <td>0</td>\n",
       "      <td>0</td>\n",
       "      <td>...</td>\n",
       "      <td>0</td>\n",
       "      <td>0</td>\n",
       "      <td>0</td>\n",
       "      <td>0</td>\n",
       "      <td>0</td>\n",
       "      <td>0</td>\n",
       "      <td>0</td>\n",
       "      <td>0</td>\n",
       "      <td>0</td>\n",
       "      <td>0</td>\n",
       "    </tr>\n",
       "    <tr>\n",
       "      <th>316812</th>\n",
       "      <td>0</td>\n",
       "      <td>0</td>\n",
       "      <td>0</td>\n",
       "      <td>0</td>\n",
       "      <td>0</td>\n",
       "      <td>0</td>\n",
       "      <td>0</td>\n",
       "      <td>0</td>\n",
       "      <td>0</td>\n",
       "      <td>0</td>\n",
       "      <td>...</td>\n",
       "      <td>0</td>\n",
       "      <td>0</td>\n",
       "      <td>0</td>\n",
       "      <td>0</td>\n",
       "      <td>0</td>\n",
       "      <td>0</td>\n",
       "      <td>0</td>\n",
       "      <td>0</td>\n",
       "      <td>0</td>\n",
       "      <td>0</td>\n",
       "    </tr>\n",
       "    <tr>\n",
       "      <th>...</th>\n",
       "      <td>...</td>\n",
       "      <td>...</td>\n",
       "      <td>...</td>\n",
       "      <td>...</td>\n",
       "      <td>...</td>\n",
       "      <td>...</td>\n",
       "      <td>...</td>\n",
       "      <td>...</td>\n",
       "      <td>...</td>\n",
       "      <td>...</td>\n",
       "      <td>...</td>\n",
       "      <td>...</td>\n",
       "      <td>...</td>\n",
       "      <td>...</td>\n",
       "      <td>...</td>\n",
       "      <td>...</td>\n",
       "      <td>...</td>\n",
       "      <td>...</td>\n",
       "      <td>...</td>\n",
       "      <td>...</td>\n",
       "      <td>...</td>\n",
       "    </tr>\n",
       "    <tr>\n",
       "      <th>79646</th>\n",
       "      <td>0</td>\n",
       "      <td>0</td>\n",
       "      <td>0</td>\n",
       "      <td>0</td>\n",
       "      <td>0</td>\n",
       "      <td>0</td>\n",
       "      <td>0</td>\n",
       "      <td>0</td>\n",
       "      <td>0</td>\n",
       "      <td>0</td>\n",
       "      <td>...</td>\n",
       "      <td>0</td>\n",
       "      <td>0</td>\n",
       "      <td>0</td>\n",
       "      <td>0</td>\n",
       "      <td>0</td>\n",
       "      <td>0</td>\n",
       "      <td>0</td>\n",
       "      <td>0</td>\n",
       "      <td>0</td>\n",
       "      <td>0</td>\n",
       "    </tr>\n",
       "    <tr>\n",
       "      <th>255012</th>\n",
       "      <td>0</td>\n",
       "      <td>0</td>\n",
       "      <td>0</td>\n",
       "      <td>0</td>\n",
       "      <td>0</td>\n",
       "      <td>0</td>\n",
       "      <td>0</td>\n",
       "      <td>0</td>\n",
       "      <td>0</td>\n",
       "      <td>0</td>\n",
       "      <td>...</td>\n",
       "      <td>0</td>\n",
       "      <td>0</td>\n",
       "      <td>0</td>\n",
       "      <td>0</td>\n",
       "      <td>0</td>\n",
       "      <td>0</td>\n",
       "      <td>0</td>\n",
       "      <td>0</td>\n",
       "      <td>0</td>\n",
       "      <td>0</td>\n",
       "    </tr>\n",
       "    <tr>\n",
       "      <th>66872</th>\n",
       "      <td>0</td>\n",
       "      <td>0</td>\n",
       "      <td>0</td>\n",
       "      <td>0</td>\n",
       "      <td>0</td>\n",
       "      <td>0</td>\n",
       "      <td>0</td>\n",
       "      <td>0</td>\n",
       "      <td>0</td>\n",
       "      <td>0</td>\n",
       "      <td>...</td>\n",
       "      <td>0</td>\n",
       "      <td>0</td>\n",
       "      <td>0</td>\n",
       "      <td>0</td>\n",
       "      <td>0</td>\n",
       "      <td>0</td>\n",
       "      <td>0</td>\n",
       "      <td>0</td>\n",
       "      <td>0</td>\n",
       "      <td>0</td>\n",
       "    </tr>\n",
       "    <tr>\n",
       "      <th>40301</th>\n",
       "      <td>0</td>\n",
       "      <td>0</td>\n",
       "      <td>0</td>\n",
       "      <td>0</td>\n",
       "      <td>0</td>\n",
       "      <td>0</td>\n",
       "      <td>0</td>\n",
       "      <td>0</td>\n",
       "      <td>0</td>\n",
       "      <td>0</td>\n",
       "      <td>...</td>\n",
       "      <td>0</td>\n",
       "      <td>0</td>\n",
       "      <td>0</td>\n",
       "      <td>0</td>\n",
       "      <td>0</td>\n",
       "      <td>0</td>\n",
       "      <td>0</td>\n",
       "      <td>0</td>\n",
       "      <td>0</td>\n",
       "      <td>0</td>\n",
       "    </tr>\n",
       "    <tr>\n",
       "      <th>675</th>\n",
       "      <td>0</td>\n",
       "      <td>0</td>\n",
       "      <td>0</td>\n",
       "      <td>0</td>\n",
       "      <td>0</td>\n",
       "      <td>0</td>\n",
       "      <td>0</td>\n",
       "      <td>0</td>\n",
       "      <td>0</td>\n",
       "      <td>0</td>\n",
       "      <td>...</td>\n",
       "      <td>0</td>\n",
       "      <td>0</td>\n",
       "      <td>0</td>\n",
       "      <td>0</td>\n",
       "      <td>0</td>\n",
       "      <td>0</td>\n",
       "      <td>0</td>\n",
       "      <td>0</td>\n",
       "      <td>0</td>\n",
       "      <td>0</td>\n",
       "    </tr>\n",
       "  </tbody>\n",
       "</table>\n",
       "<p>30000 rows × 6000 columns</p>\n",
       "</div>"
      ],
      "text/plain": [
       "        0     1     2     3     4     5     6     7     8     9     ...  2990  \\\n",
       "193380     0     0     0     0     0     0     0     0     0     0  ...     0   \n",
       "72666      0     0     0     0     0     0     0     0     0     0  ...     0   \n",
       "296747     0     0     0     0     0     0     0     0     0     0  ...     0   \n",
       "114127     0     0     0     0     0     0     0     0     0     0  ...     0   \n",
       "316812     0     0     0     0     0     0     0     0     0     0  ...     0   \n",
       "...      ...   ...   ...   ...   ...   ...   ...   ...   ...   ...  ...   ...   \n",
       "79646      0     0     0     0     0     0     0     0     0     0  ...     0   \n",
       "255012     0     0     0     0     0     0     0     0     0     0  ...     0   \n",
       "66872      0     0     0     0     0     0     0     0     0     0  ...     0   \n",
       "40301      0     0     0     0     0     0     0     0     0     0  ...     0   \n",
       "675        0     0     0     0     0     0     0     0     0     0  ...     0   \n",
       "\n",
       "        2991  2992  2993  2994  2995  2996  2997  2998  2999  \n",
       "193380     0     1     0     0     0     0     0     0     0  \n",
       "72666      0     0     0     0     0     0     0     0     0  \n",
       "296747     0     0     0     0     0     0     0     0     0  \n",
       "114127     0     0     0     0     0     0     0     0     0  \n",
       "316812     0     0     0     0     0     0     0     0     0  \n",
       "...      ...   ...   ...   ...   ...   ...   ...   ...   ...  \n",
       "79646      0     0     0     0     0     0     0     0     0  \n",
       "255012     0     0     0     0     0     0     0     0     0  \n",
       "66872      0     0     0     0     0     0     0     0     0  \n",
       "40301      0     0     0     0     0     0     0     0     0  \n",
       "675        0     0     0     0     0     0     0     0     0  \n",
       "\n",
       "[30000 rows x 6000 columns]"
      ]
     },
     "execution_count": 65,
     "metadata": {},
     "output_type": "execute_result"
    }
   ],
   "source": [
    "temp_df"
   ]
  },
  {
   "cell_type": "code",
   "execution_count": 66,
   "metadata": {},
   "outputs": [],
   "source": [
    "temp_df['is_duplicate'] = new_df['is_duplicate'] # Checking that do we have any duplicate questions in our temp data frame or not"
   ]
  },
  {
   "cell_type": "code",
   "execution_count": 67,
   "metadata": {},
   "outputs": [
    {
     "data": {
      "text/html": [
       "<div>\n",
       "<style scoped>\n",
       "    .dataframe tbody tr th:only-of-type {\n",
       "        vertical-align: middle;\n",
       "    }\n",
       "\n",
       "    .dataframe tbody tr th {\n",
       "        vertical-align: top;\n",
       "    }\n",
       "\n",
       "    .dataframe thead th {\n",
       "        text-align: right;\n",
       "    }\n",
       "</style>\n",
       "<table border=\"1\" class=\"dataframe\">\n",
       "  <thead>\n",
       "    <tr style=\"text-align: right;\">\n",
       "      <th></th>\n",
       "      <th>0</th>\n",
       "      <th>1</th>\n",
       "      <th>2</th>\n",
       "      <th>3</th>\n",
       "      <th>4</th>\n",
       "      <th>5</th>\n",
       "      <th>6</th>\n",
       "      <th>7</th>\n",
       "      <th>8</th>\n",
       "      <th>9</th>\n",
       "      <th>...</th>\n",
       "      <th>2991</th>\n",
       "      <th>2992</th>\n",
       "      <th>2993</th>\n",
       "      <th>2994</th>\n",
       "      <th>2995</th>\n",
       "      <th>2996</th>\n",
       "      <th>2997</th>\n",
       "      <th>2998</th>\n",
       "      <th>2999</th>\n",
       "      <th>is_duplicate</th>\n",
       "    </tr>\n",
       "  </thead>\n",
       "  <tbody>\n",
       "    <tr>\n",
       "      <th>193380</th>\n",
       "      <td>0</td>\n",
       "      <td>0</td>\n",
       "      <td>0</td>\n",
       "      <td>0</td>\n",
       "      <td>0</td>\n",
       "      <td>0</td>\n",
       "      <td>0</td>\n",
       "      <td>0</td>\n",
       "      <td>0</td>\n",
       "      <td>0</td>\n",
       "      <td>...</td>\n",
       "      <td>0</td>\n",
       "      <td>1</td>\n",
       "      <td>0</td>\n",
       "      <td>0</td>\n",
       "      <td>0</td>\n",
       "      <td>0</td>\n",
       "      <td>0</td>\n",
       "      <td>0</td>\n",
       "      <td>0</td>\n",
       "      <td>0</td>\n",
       "    </tr>\n",
       "    <tr>\n",
       "      <th>72666</th>\n",
       "      <td>0</td>\n",
       "      <td>0</td>\n",
       "      <td>0</td>\n",
       "      <td>0</td>\n",
       "      <td>0</td>\n",
       "      <td>0</td>\n",
       "      <td>0</td>\n",
       "      <td>0</td>\n",
       "      <td>0</td>\n",
       "      <td>0</td>\n",
       "      <td>...</td>\n",
       "      <td>0</td>\n",
       "      <td>0</td>\n",
       "      <td>0</td>\n",
       "      <td>0</td>\n",
       "      <td>0</td>\n",
       "      <td>0</td>\n",
       "      <td>0</td>\n",
       "      <td>0</td>\n",
       "      <td>0</td>\n",
       "      <td>1</td>\n",
       "    </tr>\n",
       "    <tr>\n",
       "      <th>296747</th>\n",
       "      <td>0</td>\n",
       "      <td>0</td>\n",
       "      <td>0</td>\n",
       "      <td>0</td>\n",
       "      <td>0</td>\n",
       "      <td>0</td>\n",
       "      <td>0</td>\n",
       "      <td>0</td>\n",
       "      <td>0</td>\n",
       "      <td>0</td>\n",
       "      <td>...</td>\n",
       "      <td>0</td>\n",
       "      <td>0</td>\n",
       "      <td>0</td>\n",
       "      <td>0</td>\n",
       "      <td>0</td>\n",
       "      <td>0</td>\n",
       "      <td>0</td>\n",
       "      <td>0</td>\n",
       "      <td>0</td>\n",
       "      <td>1</td>\n",
       "    </tr>\n",
       "    <tr>\n",
       "      <th>114127</th>\n",
       "      <td>0</td>\n",
       "      <td>0</td>\n",
       "      <td>0</td>\n",
       "      <td>0</td>\n",
       "      <td>0</td>\n",
       "      <td>0</td>\n",
       "      <td>0</td>\n",
       "      <td>0</td>\n",
       "      <td>0</td>\n",
       "      <td>0</td>\n",
       "      <td>...</td>\n",
       "      <td>0</td>\n",
       "      <td>0</td>\n",
       "      <td>0</td>\n",
       "      <td>0</td>\n",
       "      <td>0</td>\n",
       "      <td>0</td>\n",
       "      <td>0</td>\n",
       "      <td>0</td>\n",
       "      <td>0</td>\n",
       "      <td>1</td>\n",
       "    </tr>\n",
       "    <tr>\n",
       "      <th>316812</th>\n",
       "      <td>0</td>\n",
       "      <td>0</td>\n",
       "      <td>0</td>\n",
       "      <td>0</td>\n",
       "      <td>0</td>\n",
       "      <td>0</td>\n",
       "      <td>0</td>\n",
       "      <td>0</td>\n",
       "      <td>0</td>\n",
       "      <td>0</td>\n",
       "      <td>...</td>\n",
       "      <td>0</td>\n",
       "      <td>0</td>\n",
       "      <td>0</td>\n",
       "      <td>0</td>\n",
       "      <td>0</td>\n",
       "      <td>0</td>\n",
       "      <td>0</td>\n",
       "      <td>0</td>\n",
       "      <td>0</td>\n",
       "      <td>0</td>\n",
       "    </tr>\n",
       "  </tbody>\n",
       "</table>\n",
       "<p>5 rows × 6001 columns</p>\n",
       "</div>"
      ],
      "text/plain": [
       "        0  1  2  3  4  5  6  7  8  9  ...  2991  2992  2993  2994  2995  2996  \\\n",
       "193380  0  0  0  0  0  0  0  0  0  0  ...     0     1     0     0     0     0   \n",
       "72666   0  0  0  0  0  0  0  0  0  0  ...     0     0     0     0     0     0   \n",
       "296747  0  0  0  0  0  0  0  0  0  0  ...     0     0     0     0     0     0   \n",
       "114127  0  0  0  0  0  0  0  0  0  0  ...     0     0     0     0     0     0   \n",
       "316812  0  0  0  0  0  0  0  0  0  0  ...     0     0     0     0     0     0   \n",
       "\n",
       "        2997  2998  2999  is_duplicate  \n",
       "193380     0     0     0             0  \n",
       "72666      0     0     0             1  \n",
       "296747     0     0     0             1  \n",
       "114127     0     0     0             1  \n",
       "316812     0     0     0             0  \n",
       "\n",
       "[5 rows x 6001 columns]"
      ]
     },
     "execution_count": 67,
     "metadata": {},
     "output_type": "execute_result"
    }
   ],
   "source": [
    "temp_df.head()"
   ]
  },
  {
   "cell_type": "code",
   "execution_count": 68,
   "metadata": {
    "id": "nqicYgMy0xXp"
   },
   "outputs": [],
   "source": [
    "# Now without doing anything let's randomly train our model using Random Forest Classifier so that we can altleast get the accuracy of our model without doing anything\n",
    "from sklearn.model_selection import train_test_split\n",
    "\n",
    "# Imported train-test_split function from the model_selection class of sklearn library"
   ]
  },
  {
   "cell_type": "code",
   "execution_count": 69,
   "metadata": {
    "id": "OZ_vA6lfN-d5"
   },
   "outputs": [],
   "source": [
    "X_train,X_test,y_train,y_test = train_test_split(temp_df.iloc[:,0:-1].values,temp_df.iloc[:,-1].values,test_size=0.2,random_state=1)\n",
    "#Splited our data in 80%-20% ratio, 80% data for Training and remaining 20% for testing"
   ]
  },
  {
   "cell_type": "code",
   "execution_count": 70,
   "metadata": {
    "colab": {
     "base_uri": "https://localhost:8080/",
     "height": 451
    },
    "id": "KRNXhtCdOKQ8",
    "outputId": "5334a3b9-2838-4ca7-b17d-cae3cf9b5765"
   },
   "outputs": [],
   "source": [
    "from sklearn.ensemble import RandomForestClassifier #Imported RandomForestClaasifier for Training model\n",
    "from sklearn.metrics import accuracy_score #imported accurancy_score function to calculate accuracy of our model after getting trained\n",
    "rf = RandomForestClassifier() # Implementing model\n",
    "rf.fit(X_train,y_train) # Fitting training data\n",
    "y_pred = rf.predict(X_test) # Predicting data\n",
    "ac = accuracy_score(y_test,y_pred) # Calculationg accuracy score\n",
    "Accuracy_Percentage = ac*100"
   ]
  },
  {
   "cell_type": "code",
   "execution_count": 72,
   "metadata": {
    "id": "y9psI8e9OnRT"
   },
   "outputs": [
    {
     "data": {
      "text/plain": [
       "61.21666666666666"
      ]
     },
     "execution_count": 72,
     "metadata": {},
     "output_type": "execute_result"
    }
   ],
   "source": [
    "# Random Forest Classifier Model Accuracy\n",
    "Accuracy_Percentage"
   ]
  },
  {
   "cell_type": "code",
   "execution_count": 73,
   "metadata": {},
   "outputs": [],
   "source": [
    "# Let's apply another algorithm as well so that we can compare both algorithm's accuracy without doing anything"
   ]
  },
  {
   "cell_type": "code",
   "execution_count": 74,
   "metadata": {},
   "outputs": [
    {
     "name": "stdout",
     "output_type": "stream",
     "text": [
      "Requirement already satisfied: xgboost in /Users/kushjani/opt/anaconda3/lib/python3.9/site-packages (1.6.0)\r\n",
      "Requirement already satisfied: scipy in /Users/kushjani/opt/anaconda3/lib/python3.9/site-packages (from xgboost) (1.7.1)\r\n",
      "Requirement already satisfied: numpy in /Users/kushjani/opt/anaconda3/lib/python3.9/site-packages (from xgboost) (1.20.3)\r\n"
     ]
    }
   ],
   "source": [
    "!pip install xgboost"
   ]
  },
  {
   "cell_type": "code",
   "execution_count": 75,
   "metadata": {},
   "outputs": [],
   "source": [
    "# so another algorith we are applying XG Boost Classifier\n",
    "from xgboost import XGBClassifier\n",
    "xgb = XGBClassifier()\n",
    "xgb.fit(X_train,y_train)\n",
    "y_pred = xgb.predict(X_test)\n",
    "ac2 = accuracy_score(y_test,y_pred)\n",
    "accuracy_Percentag_xgb = ac2*100"
   ]
  },
  {
   "cell_type": "code",
   "execution_count": 76,
   "metadata": {},
   "outputs": [
    {
     "data": {
      "text/plain": [
       "62.4"
      ]
     },
     "execution_count": 76,
     "metadata": {},
     "output_type": "execute_result"
    }
   ],
   "source": [
    "# XG Boost Classifier Model accuracy\n",
    "accuracy_Percentag_xgb"
   ]
  },
  {
   "cell_type": "code",
   "execution_count": 77,
   "metadata": {},
   "outputs": [],
   "source": [
    "# so as per SG Boost Classifier Model's accuracy and Random Forect Classifier Model's accuracy\n",
    "#we are getting accuracy around 62% without doing anything"
   ]
  },
  {
   "cell_type": "code",
   "execution_count": 82,
   "metadata": {},
   "outputs": [
    {
     "name": "stdout",
     "output_type": "stream",
     "text": [
      "0    18861\n",
      "1    11139\n",
      "Name: is_duplicate, dtype: int64\n",
      "0    62.87\n",
      "1    37.13\n",
      "Name: is_duplicate, dtype: float64\n"
     ]
    },
    {
     "data": {
      "text/plain": [
       "<AxesSubplot:>"
      ]
     },
     "execution_count": 82,
     "metadata": {},
     "output_type": "execute_result"
    },
    {
     "data": {
      "image/png": "[encoded data removed]",
      "text/plain": [
       "<Figure size 432x288 with 1 Axes>"
      ]
     },
     "metadata": {
      "needs_background": "light"
     },
     "output_type": "display_data"
    }
   ],
   "source": [
    "# As we created plot for 4lakh+ rows, here we are making the same plot but for 30000 rows\n",
    "# Distribution of duplicate and non-duplicate questions\n",
    "\n",
    "print(NEW_df['is_duplicate'].value_counts())\n",
    "print((NEW_df['is_duplicate'].value_counts()/NEW_df['is_duplicate'].count())*100)\n",
    "NEW_df['is_duplicate'].value_counts().plot(kind='bar')"
   ]
  },
  {
   "cell_type": "code",
   "execution_count": 84,
   "metadata": {},
   "outputs": [
    {
     "name": "stdout",
     "output_type": "stream",
     "text": [
      "Number of unique questions 59836\n",
      "Number of questions getting repeated 153\n"
     ]
    }
   ],
   "source": [
    "# Let's check that in this new data frame is there any repeated question pairs or not, if yes than also check the number\n",
    "\n",
    "qid = pd.Series(NEW_df['qid1'].tolist() + NEW_df['qid2'].tolist())\n",
    "print('Number of unique questions',np.unique(qid).shape[0])\n",
    "x = qid.value_counts()>1\n",
    "print('Number of questions getting repeated',x[x].shape[0])\n",
    "\n",
    "# As per results there are 59836 unique questions and 153 repeated questions"
   ]
  },
  {
   "cell_type": "code",
   "execution_count": 85,
   "metadata": {},
   "outputs": [
    {
     "data": {
      "image/png": "[encoded data removed]",
      "text/plain": [
       "<Figure size 432x288 with 1 Axes>"
      ]
     },
     "metadata": {
      "needs_background": "light"
     },
     "output_type": "display_data"
    }
   ],
   "source": [
    "# Let's make a histogram plot for above outcomes\n",
    "\n",
    "plt.hist(qid.value_counts().values,bins=160)\n",
    "plt.yscale('log')\n",
    "plt.show()"
   ]
  },
  {
   "cell_type": "code",
   "execution_count": 79,
   "metadata": {},
   "outputs": [],
   "source": [
    "# To increase the accuracy of our model and to making it more perfect\n",
    "# We will add more features in our data\n",
    "# which is also known as feature engineering"
   ]
  },
  {
   "cell_type": "code",
   "execution_count": 80,
   "metadata": {},
   "outputs": [],
   "source": [
    "# We will make seven new feautures as per mentioned below;\n",
    "\n",
    "# 1.Character Length of Question1: Length_Q1\n",
    "# 2.Character Length of Question2: Length_Q2\n",
    "# 3.Number of words in Question1: #_words_Q1\n",
    "# 4.Number of words in Question2: #_words_Q2\n",
    "# 5.Number of Common UNIQUE Words: #_Common_Words\n",
    "# 6.Total Number in Q1 + Total + number of words in Question2: Total_Words\n",
    "# 7.Word Common/Word Total: share_word"
   ]
  },
  {
   "cell_type": "code",
   "execution_count": 90,
   "metadata": {},
   "outputs": [],
   "source": [
    "# Now Let's Begain Feature Engineering\n",
    "\n",
    "NEW_df['Length_Q1'] = NEW_df['question1'].str.len() \n",
    "NEW_df['Length_Q2'] = NEW_df['question2'].str.len()\n",
    "\n",
    "# Here we are now adding two more features which are Question 1 length and Question2 length"
   ]
  },
  {
   "cell_type": "code",
   "execution_count": 92,
   "metadata": {},
   "outputs": [
    {
     "data": {
      "text/html": [
       "<div>\n",
       "<style scoped>\n",
       "    .dataframe tbody tr th:only-of-type {\n",
       "        vertical-align: middle;\n",
       "    }\n",
       "\n",
       "    .dataframe tbody tr th {\n",
       "        vertical-align: top;\n",
       "    }\n",
       "\n",
       "    .dataframe thead th {\n",
       "        text-align: right;\n",
       "    }\n",
       "</style>\n",
       "<table border=\"1\" class=\"dataframe\">\n",
       "  <thead>\n",
       "    <tr style=\"text-align: right;\">\n",
       "      <th></th>\n",
       "      <th>id</th>\n",
       "      <th>qid1</th>\n",
       "      <th>qid2</th>\n",
       "      <th>question1</th>\n",
       "      <th>question2</th>\n",
       "      <th>is_duplicate</th>\n",
       "      <th>Length_Q1</th>\n",
       "      <th>Length_Q2</th>\n",
       "    </tr>\n",
       "  </thead>\n",
       "  <tbody>\n",
       "    <tr>\n",
       "      <th>33270</th>\n",
       "      <td>33270</td>\n",
       "      <td>66310</td>\n",
       "      <td>66311</td>\n",
       "      <td>How do you turn on a Honeywell thermostat?</td>\n",
       "      <td>How do you set a Honeywell Thermostat?</td>\n",
       "      <td>0</td>\n",
       "      <td>42</td>\n",
       "      <td>38</td>\n",
       "    </tr>\n",
       "    <tr>\n",
       "      <th>105697</th>\n",
       "      <td>105697</td>\n",
       "      <td>209646</td>\n",
       "      <td>209647</td>\n",
       "      <td>What are some of the reasons for not wearing j...</td>\n",
       "      <td>Which satellite does Multichoice use?</td>\n",
       "      <td>0</td>\n",
       "      <td>51</td>\n",
       "      <td>37</td>\n",
       "    </tr>\n",
       "    <tr>\n",
       "      <th>264166</th>\n",
       "      <td>264166</td>\n",
       "      <td>519752</td>\n",
       "      <td>519753</td>\n",
       "      <td>What is scientific proof or explanation for gh...</td>\n",
       "      <td>Can science explain the existence of ghosts?</td>\n",
       "      <td>0</td>\n",
       "      <td>51</td>\n",
       "      <td>44</td>\n",
       "    </tr>\n",
       "    <tr>\n",
       "      <th>307014</th>\n",
       "      <td>307014</td>\n",
       "      <td>602760</td>\n",
       "      <td>602761</td>\n",
       "      <td>Which places I should visit in jaipur?</td>\n",
       "      <td>Which places one should visit in chandigarh?</td>\n",
       "      <td>0</td>\n",
       "      <td>38</td>\n",
       "      <td>44</td>\n",
       "    </tr>\n",
       "    <tr>\n",
       "      <th>256448</th>\n",
       "      <td>256448</td>\n",
       "      <td>504767</td>\n",
       "      <td>504768</td>\n",
       "      <td>What was the Boxer Rebellion?</td>\n",
       "      <td>What was the Boxer Rebellion about?</td>\n",
       "      <td>1</td>\n",
       "      <td>29</td>\n",
       "      <td>35</td>\n",
       "    </tr>\n",
       "  </tbody>\n",
       "</table>\n",
       "</div>"
      ],
      "text/plain": [
       "            id    qid1    qid2  \\\n",
       "33270    33270   66310   66311   \n",
       "105697  105697  209646  209647   \n",
       "264166  264166  519752  519753   \n",
       "307014  307014  602760  602761   \n",
       "256448  256448  504767  504768   \n",
       "\n",
       "                                                question1  \\\n",
       "33270          How do you turn on a Honeywell thermostat?   \n",
       "105697  What are some of the reasons for not wearing j...   \n",
       "264166  What is scientific proof or explanation for gh...   \n",
       "307014             Which places I should visit in jaipur?   \n",
       "256448                      What was the Boxer Rebellion?   \n",
       "\n",
       "                                           question2  is_duplicate  Length_Q1  \\\n",
       "33270         How do you set a Honeywell Thermostat?             0         42   \n",
       "105697         Which satellite does Multichoice use?             0         51   \n",
       "264166  Can science explain the existence of ghosts?             0         51   \n",
       "307014  Which places one should visit in chandigarh?             0         38   \n",
       "256448           What was the Boxer Rebellion about?             1         29   \n",
       "\n",
       "        Length_Q2  \n",
       "33270          38  \n",
       "105697         37  \n",
       "264166         44  \n",
       "307014         44  \n",
       "256448         35  "
      ]
     },
     "execution_count": 92,
     "metadata": {},
     "output_type": "execute_result"
    }
   ],
   "source": [
    "NEW_df.head()\n",
    "\n",
    "# as per the outcoms we can see that our 2 new features are added in the data frame"
   ]
  },
  {
   "cell_type": "code",
   "execution_count": 96,
   "metadata": {},
   "outputs": [],
   "source": [
    "# Here we are adding 2 more new features\n",
    "# one is Number of words in Question1 and second is number if words in Question2\n",
    "NEW_df['#_words_Q1'] = NEW_df['question1'].apply(lambda row: len(row.split(\" \")))\n",
    "NEW_df['#_words_Q2'] = NEW_df['question2'].apply(lambda row: len(row.split(\" \")))"
   ]
  },
  {
   "cell_type": "code",
   "execution_count": 98,
   "metadata": {},
   "outputs": [
    {
     "data": {
      "text/html": [
       "<div>\n",
       "<style scoped>\n",
       "    .dataframe tbody tr th:only-of-type {\n",
       "        vertical-align: middle;\n",
       "    }\n",
       "\n",
       "    .dataframe tbody tr th {\n",
       "        vertical-align: top;\n",
       "    }\n",
       "\n",
       "    .dataframe thead th {\n",
       "        text-align: right;\n",
       "    }\n",
       "</style>\n",
       "<table border=\"1\" class=\"dataframe\">\n",
       "  <thead>\n",
       "    <tr style=\"text-align: right;\">\n",
       "      <th></th>\n",
       "      <th>id</th>\n",
       "      <th>qid1</th>\n",
       "      <th>qid2</th>\n",
       "      <th>question1</th>\n",
       "      <th>question2</th>\n",
       "      <th>is_duplicate</th>\n",
       "      <th>Length_Q1</th>\n",
       "      <th>Length_Q2</th>\n",
       "      <th>#_words_Q1</th>\n",
       "      <th>#_words_Q2</th>\n",
       "    </tr>\n",
       "  </thead>\n",
       "  <tbody>\n",
       "    <tr>\n",
       "      <th>33270</th>\n",
       "      <td>33270</td>\n",
       "      <td>66310</td>\n",
       "      <td>66311</td>\n",
       "      <td>How do you turn on a Honeywell thermostat?</td>\n",
       "      <td>How do you set a Honeywell Thermostat?</td>\n",
       "      <td>0</td>\n",
       "      <td>42</td>\n",
       "      <td>38</td>\n",
       "      <td>8</td>\n",
       "      <td>7</td>\n",
       "    </tr>\n",
       "    <tr>\n",
       "      <th>105697</th>\n",
       "      <td>105697</td>\n",
       "      <td>209646</td>\n",
       "      <td>209647</td>\n",
       "      <td>What are some of the reasons for not wearing j...</td>\n",
       "      <td>Which satellite does Multichoice use?</td>\n",
       "      <td>0</td>\n",
       "      <td>51</td>\n",
       "      <td>37</td>\n",
       "      <td>10</td>\n",
       "      <td>5</td>\n",
       "    </tr>\n",
       "    <tr>\n",
       "      <th>264166</th>\n",
       "      <td>264166</td>\n",
       "      <td>519752</td>\n",
       "      <td>519753</td>\n",
       "      <td>What is scientific proof or explanation for gh...</td>\n",
       "      <td>Can science explain the existence of ghosts?</td>\n",
       "      <td>0</td>\n",
       "      <td>51</td>\n",
       "      <td>44</td>\n",
       "      <td>8</td>\n",
       "      <td>7</td>\n",
       "    </tr>\n",
       "    <tr>\n",
       "      <th>307014</th>\n",
       "      <td>307014</td>\n",
       "      <td>602760</td>\n",
       "      <td>602761</td>\n",
       "      <td>Which places I should visit in jaipur?</td>\n",
       "      <td>Which places one should visit in chandigarh?</td>\n",
       "      <td>0</td>\n",
       "      <td>38</td>\n",
       "      <td>44</td>\n",
       "      <td>7</td>\n",
       "      <td>7</td>\n",
       "    </tr>\n",
       "    <tr>\n",
       "      <th>256448</th>\n",
       "      <td>256448</td>\n",
       "      <td>504767</td>\n",
       "      <td>504768</td>\n",
       "      <td>What was the Boxer Rebellion?</td>\n",
       "      <td>What was the Boxer Rebellion about?</td>\n",
       "      <td>1</td>\n",
       "      <td>29</td>\n",
       "      <td>35</td>\n",
       "      <td>5</td>\n",
       "      <td>6</td>\n",
       "    </tr>\n",
       "  </tbody>\n",
       "</table>\n",
       "</div>"
      ],
      "text/plain": [
       "            id    qid1    qid2  \\\n",
       "33270    33270   66310   66311   \n",
       "105697  105697  209646  209647   \n",
       "264166  264166  519752  519753   \n",
       "307014  307014  602760  602761   \n",
       "256448  256448  504767  504768   \n",
       "\n",
       "                                                question1  \\\n",
       "33270          How do you turn on a Honeywell thermostat?   \n",
       "105697  What are some of the reasons for not wearing j...   \n",
       "264166  What is scientific proof or explanation for gh...   \n",
       "307014             Which places I should visit in jaipur?   \n",
       "256448                      What was the Boxer Rebellion?   \n",
       "\n",
       "                                           question2  is_duplicate  Length_Q1  \\\n",
       "33270         How do you set a Honeywell Thermostat?             0         42   \n",
       "105697         Which satellite does Multichoice use?             0         51   \n",
       "264166  Can science explain the existence of ghosts?             0         51   \n",
       "307014  Which places one should visit in chandigarh?             0         38   \n",
       "256448           What was the Boxer Rebellion about?             1         29   \n",
       "\n",
       "        Length_Q2  #_words_Q1  #_words_Q2  \n",
       "33270          38           8           7  \n",
       "105697         37          10           5  \n",
       "264166         44           8           7  \n",
       "307014         44           7           7  \n",
       "256448         35           5           6  "
      ]
     },
     "execution_count": 98,
     "metadata": {},
     "output_type": "execute_result"
    }
   ],
   "source": [
    "NEW_df.head()\n",
    "# As per the output we can see that, 2 more new feature has been added in the dataset."
   ]
  },
  {
   "cell_type": "code",
   "execution_count": 104,
   "metadata": {},
   "outputs": [],
   "source": [
    "# Here we are making one function which will help us to make a new feature to find common words between Question1 set and Question2 set\n",
    "def number_of_Common_Words(row):\n",
    "    w1 = set(map(lambda word: word.lower().strip(), row['question1'].split(\" \")))\n",
    "    w2 = set(map(lambda word: word.lower().strip(), row['question2'].split(\" \")))    \n",
    "    return len(w1 & w2)"
   ]
  },
  {
   "cell_type": "code",
   "execution_count": 109,
   "metadata": {},
   "outputs": [],
   "source": [
    "# Here we are applying that function to add one more feature in our data frame\n",
    "NEW_df['#_common_words'] = NEW_df.apply(number_of_Common_Words, axis=1)"
   ]
  },
  {
   "cell_type": "code",
   "execution_count": 110,
   "metadata": {},
   "outputs": [
    {
     "data": {
      "text/html": [
       "<div>\n",
       "<style scoped>\n",
       "    .dataframe tbody tr th:only-of-type {\n",
       "        vertical-align: middle;\n",
       "    }\n",
       "\n",
       "    .dataframe tbody tr th {\n",
       "        vertical-align: top;\n",
       "    }\n",
       "\n",
       "    .dataframe thead th {\n",
       "        text-align: right;\n",
       "    }\n",
       "</style>\n",
       "<table border=\"1\" class=\"dataframe\">\n",
       "  <thead>\n",
       "    <tr style=\"text-align: right;\">\n",
       "      <th></th>\n",
       "      <th>id</th>\n",
       "      <th>qid1</th>\n",
       "      <th>qid2</th>\n",
       "      <th>question1</th>\n",
       "      <th>question2</th>\n",
       "      <th>is_duplicate</th>\n",
       "      <th>Length_Q1</th>\n",
       "      <th>Length_Q2</th>\n",
       "      <th>#_words_Q1</th>\n",
       "      <th>#_words_Q2</th>\n",
       "      <th>#_common_words</th>\n",
       "    </tr>\n",
       "  </thead>\n",
       "  <tbody>\n",
       "    <tr>\n",
       "      <th>33270</th>\n",
       "      <td>33270</td>\n",
       "      <td>66310</td>\n",
       "      <td>66311</td>\n",
       "      <td>How do you turn on a Honeywell thermostat?</td>\n",
       "      <td>How do you set a Honeywell Thermostat?</td>\n",
       "      <td>0</td>\n",
       "      <td>42</td>\n",
       "      <td>38</td>\n",
       "      <td>8</td>\n",
       "      <td>7</td>\n",
       "      <td>6</td>\n",
       "    </tr>\n",
       "    <tr>\n",
       "      <th>105697</th>\n",
       "      <td>105697</td>\n",
       "      <td>209646</td>\n",
       "      <td>209647</td>\n",
       "      <td>What are some of the reasons for not wearing j...</td>\n",
       "      <td>Which satellite does Multichoice use?</td>\n",
       "      <td>0</td>\n",
       "      <td>51</td>\n",
       "      <td>37</td>\n",
       "      <td>10</td>\n",
       "      <td>5</td>\n",
       "      <td>0</td>\n",
       "    </tr>\n",
       "    <tr>\n",
       "      <th>264166</th>\n",
       "      <td>264166</td>\n",
       "      <td>519752</td>\n",
       "      <td>519753</td>\n",
       "      <td>What is scientific proof or explanation for gh...</td>\n",
       "      <td>Can science explain the existence of ghosts?</td>\n",
       "      <td>0</td>\n",
       "      <td>51</td>\n",
       "      <td>44</td>\n",
       "      <td>8</td>\n",
       "      <td>7</td>\n",
       "      <td>1</td>\n",
       "    </tr>\n",
       "    <tr>\n",
       "      <th>307014</th>\n",
       "      <td>307014</td>\n",
       "      <td>602760</td>\n",
       "      <td>602761</td>\n",
       "      <td>Which places I should visit in jaipur?</td>\n",
       "      <td>Which places one should visit in chandigarh?</td>\n",
       "      <td>0</td>\n",
       "      <td>38</td>\n",
       "      <td>44</td>\n",
       "      <td>7</td>\n",
       "      <td>7</td>\n",
       "      <td>5</td>\n",
       "    </tr>\n",
       "    <tr>\n",
       "      <th>256448</th>\n",
       "      <td>256448</td>\n",
       "      <td>504767</td>\n",
       "      <td>504768</td>\n",
       "      <td>What was the Boxer Rebellion?</td>\n",
       "      <td>What was the Boxer Rebellion about?</td>\n",
       "      <td>1</td>\n",
       "      <td>29</td>\n",
       "      <td>35</td>\n",
       "      <td>5</td>\n",
       "      <td>6</td>\n",
       "      <td>4</td>\n",
       "    </tr>\n",
       "  </tbody>\n",
       "</table>\n",
       "</div>"
      ],
      "text/plain": [
       "            id    qid1    qid2  \\\n",
       "33270    33270   66310   66311   \n",
       "105697  105697  209646  209647   \n",
       "264166  264166  519752  519753   \n",
       "307014  307014  602760  602761   \n",
       "256448  256448  504767  504768   \n",
       "\n",
       "                                                question1  \\\n",
       "33270          How do you turn on a Honeywell thermostat?   \n",
       "105697  What are some of the reasons for not wearing j...   \n",
       "264166  What is scientific proof or explanation for gh...   \n",
       "307014             Which places I should visit in jaipur?   \n",
       "256448                      What was the Boxer Rebellion?   \n",
       "\n",
       "                                           question2  is_duplicate  Length_Q1  \\\n",
       "33270         How do you set a Honeywell Thermostat?             0         42   \n",
       "105697         Which satellite does Multichoice use?             0         51   \n",
       "264166  Can science explain the existence of ghosts?             0         51   \n",
       "307014  Which places one should visit in chandigarh?             0         38   \n",
       "256448           What was the Boxer Rebellion about?             1         29   \n",
       "\n",
       "        Length_Q2  #_words_Q1  #_words_Q2  #_common_words  \n",
       "33270          38           8           7               6  \n",
       "105697         37          10           5               0  \n",
       "264166         44           8           7               1  \n",
       "307014         44           7           7               5  \n",
       "256448         35           5           6               4  "
      ]
     },
     "execution_count": 110,
     "metadata": {},
     "output_type": "execute_result"
    }
   ],
   "source": [
    "NEW_df.head()\n",
    "\n",
    "# As we can see o=new feature is added in our data frame named #_common_words"
   ]
  },
  {
   "cell_type": "code",
   "execution_count": 111,
   "metadata": {},
   "outputs": [],
   "source": [
    "# Here we are making one more function to find the Total Number in Q1 + Total + number of words in Question2: Total_Words\n",
    "\n",
    "def Total_Words(row):\n",
    "    w1 = set(map(lambda word: word.lower().strip(), row['question1'].split(\" \")))\n",
    "    w2 = set(map(lambda word: word.lower().strip(), row['question2'].split(\" \")))    \n",
    "    return (len(w1) + len(w2))"
   ]
  },
  {
   "cell_type": "code",
   "execution_count": 156,
   "metadata": {},
   "outputs": [],
   "source": [
    "# Here we are applying that function which we created above\n",
    "\n",
    "NEW_df['Total_Words'] = NEW_df.apply(Total_Words, axis=1)"
   ]
  },
  {
   "cell_type": "code",
   "execution_count": 157,
   "metadata": {},
   "outputs": [
    {
     "data": {
      "text/html": [
       "<div>\n",
       "<style scoped>\n",
       "    .dataframe tbody tr th:only-of-type {\n",
       "        vertical-align: middle;\n",
       "    }\n",
       "\n",
       "    .dataframe tbody tr th {\n",
       "        vertical-align: top;\n",
       "    }\n",
       "\n",
       "    .dataframe thead th {\n",
       "        text-align: right;\n",
       "    }\n",
       "</style>\n",
       "<table border=\"1\" class=\"dataframe\">\n",
       "  <thead>\n",
       "    <tr style=\"text-align: right;\">\n",
       "      <th></th>\n",
       "      <th>id</th>\n",
       "      <th>qid1</th>\n",
       "      <th>qid2</th>\n",
       "      <th>question1</th>\n",
       "      <th>question2</th>\n",
       "      <th>is_duplicate</th>\n",
       "      <th>Length_Q1</th>\n",
       "      <th>Length_Q2</th>\n",
       "      <th>#_words_Q1</th>\n",
       "      <th>#_words_Q2</th>\n",
       "      <th>#_common_words</th>\n",
       "      <th>Total_Words</th>\n",
       "      <th>Share_Words</th>\n",
       "    </tr>\n",
       "  </thead>\n",
       "  <tbody>\n",
       "    <tr>\n",
       "      <th>33270</th>\n",
       "      <td>33270</td>\n",
       "      <td>66310</td>\n",
       "      <td>66311</td>\n",
       "      <td>How do you turn on a Honeywell thermostat?</td>\n",
       "      <td>How do you set a Honeywell Thermostat?</td>\n",
       "      <td>0</td>\n",
       "      <td>42</td>\n",
       "      <td>38</td>\n",
       "      <td>8</td>\n",
       "      <td>7</td>\n",
       "      <td>6</td>\n",
       "      <td>15</td>\n",
       "      <td>NaN</td>\n",
       "    </tr>\n",
       "    <tr>\n",
       "      <th>105697</th>\n",
       "      <td>105697</td>\n",
       "      <td>209646</td>\n",
       "      <td>209647</td>\n",
       "      <td>What are some of the reasons for not wearing j...</td>\n",
       "      <td>Which satellite does Multichoice use?</td>\n",
       "      <td>0</td>\n",
       "      <td>51</td>\n",
       "      <td>37</td>\n",
       "      <td>10</td>\n",
       "      <td>5</td>\n",
       "      <td>0</td>\n",
       "      <td>15</td>\n",
       "      <td>NaN</td>\n",
       "    </tr>\n",
       "    <tr>\n",
       "      <th>264166</th>\n",
       "      <td>264166</td>\n",
       "      <td>519752</td>\n",
       "      <td>519753</td>\n",
       "      <td>What is scientific proof or explanation for gh...</td>\n",
       "      <td>Can science explain the existence of ghosts?</td>\n",
       "      <td>0</td>\n",
       "      <td>51</td>\n",
       "      <td>44</td>\n",
       "      <td>8</td>\n",
       "      <td>7</td>\n",
       "      <td>1</td>\n",
       "      <td>15</td>\n",
       "      <td>NaN</td>\n",
       "    </tr>\n",
       "    <tr>\n",
       "      <th>307014</th>\n",
       "      <td>307014</td>\n",
       "      <td>602760</td>\n",
       "      <td>602761</td>\n",
       "      <td>Which places I should visit in jaipur?</td>\n",
       "      <td>Which places one should visit in chandigarh?</td>\n",
       "      <td>0</td>\n",
       "      <td>38</td>\n",
       "      <td>44</td>\n",
       "      <td>7</td>\n",
       "      <td>7</td>\n",
       "      <td>5</td>\n",
       "      <td>14</td>\n",
       "      <td>NaN</td>\n",
       "    </tr>\n",
       "    <tr>\n",
       "      <th>256448</th>\n",
       "      <td>256448</td>\n",
       "      <td>504767</td>\n",
       "      <td>504768</td>\n",
       "      <td>What was the Boxer Rebellion?</td>\n",
       "      <td>What was the Boxer Rebellion about?</td>\n",
       "      <td>1</td>\n",
       "      <td>29</td>\n",
       "      <td>35</td>\n",
       "      <td>5</td>\n",
       "      <td>6</td>\n",
       "      <td>4</td>\n",
       "      <td>11</td>\n",
       "      <td>NaN</td>\n",
       "    </tr>\n",
       "  </tbody>\n",
       "</table>\n",
       "</div>"
      ],
      "text/plain": [
       "            id    qid1    qid2  \\\n",
       "33270    33270   66310   66311   \n",
       "105697  105697  209646  209647   \n",
       "264166  264166  519752  519753   \n",
       "307014  307014  602760  602761   \n",
       "256448  256448  504767  504768   \n",
       "\n",
       "                                                question1  \\\n",
       "33270          How do you turn on a Honeywell thermostat?   \n",
       "105697  What are some of the reasons for not wearing j...   \n",
       "264166  What is scientific proof or explanation for gh...   \n",
       "307014             Which places I should visit in jaipur?   \n",
       "256448                      What was the Boxer Rebellion?   \n",
       "\n",
       "                                           question2  is_duplicate  Length_Q1  \\\n",
       "33270         How do you set a Honeywell Thermostat?             0         42   \n",
       "105697         Which satellite does Multichoice use?             0         51   \n",
       "264166  Can science explain the existence of ghosts?             0         51   \n",
       "307014  Which places one should visit in chandigarh?             0         38   \n",
       "256448           What was the Boxer Rebellion about?             1         29   \n",
       "\n",
       "        Length_Q2  #_words_Q1  #_words_Q2  #_common_words  Total_Words  \\\n",
       "33270          38           8           7               6           15   \n",
       "105697         37          10           5               0           15   \n",
       "264166         44           8           7               1           15   \n",
       "307014         44           7           7               5           14   \n",
       "256448         35           5           6               4           11   \n",
       "\n",
       "        Share_Words  \n",
       "33270           NaN  \n",
       "105697          NaN  \n",
       "264166          NaN  \n",
       "307014          NaN  \n",
       "256448          NaN  "
      ]
     },
     "execution_count": 157,
     "metadata": {},
     "output_type": "execute_result"
    }
   ],
   "source": [
    "NEW_df.head()\n",
    "\n",
    "# As per outcomes we can see that our new feature is also added named Total_Words"
   ]
  },
  {
   "cell_type": "code",
   "execution_count": 158,
   "metadata": {},
   "outputs": [],
   "source": [
    "# Finally, here we are making our last feature which is - Word Common/Word Total: share_word\n",
    "NEW_df['Share_Words'] = round(NEW_df['#_common_words']/NEW_df['Total_Words'],2)"
   ]
  },
  {
   "cell_type": "code",
   "execution_count": 159,
   "metadata": {},
   "outputs": [
    {
     "data": {
      "text/html": [
       "<div>\n",
       "<style scoped>\n",
       "    .dataframe tbody tr th:only-of-type {\n",
       "        vertical-align: middle;\n",
       "    }\n",
       "\n",
       "    .dataframe tbody tr th {\n",
       "        vertical-align: top;\n",
       "    }\n",
       "\n",
       "    .dataframe thead th {\n",
       "        text-align: right;\n",
       "    }\n",
       "</style>\n",
       "<table border=\"1\" class=\"dataframe\">\n",
       "  <thead>\n",
       "    <tr style=\"text-align: right;\">\n",
       "      <th></th>\n",
       "      <th>id</th>\n",
       "      <th>qid1</th>\n",
       "      <th>qid2</th>\n",
       "      <th>question1</th>\n",
       "      <th>question2</th>\n",
       "      <th>is_duplicate</th>\n",
       "      <th>Length_Q1</th>\n",
       "      <th>Length_Q2</th>\n",
       "      <th>#_words_Q1</th>\n",
       "      <th>#_words_Q2</th>\n",
       "      <th>#_common_words</th>\n",
       "      <th>Total_Words</th>\n",
       "      <th>Share_Words</th>\n",
       "    </tr>\n",
       "  </thead>\n",
       "  <tbody>\n",
       "    <tr>\n",
       "      <th>33270</th>\n",
       "      <td>33270</td>\n",
       "      <td>66310</td>\n",
       "      <td>66311</td>\n",
       "      <td>How do you turn on a Honeywell thermostat?</td>\n",
       "      <td>How do you set a Honeywell Thermostat?</td>\n",
       "      <td>0</td>\n",
       "      <td>42</td>\n",
       "      <td>38</td>\n",
       "      <td>8</td>\n",
       "      <td>7</td>\n",
       "      <td>6</td>\n",
       "      <td>15</td>\n",
       "      <td>0.40</td>\n",
       "    </tr>\n",
       "    <tr>\n",
       "      <th>105697</th>\n",
       "      <td>105697</td>\n",
       "      <td>209646</td>\n",
       "      <td>209647</td>\n",
       "      <td>What are some of the reasons for not wearing j...</td>\n",
       "      <td>Which satellite does Multichoice use?</td>\n",
       "      <td>0</td>\n",
       "      <td>51</td>\n",
       "      <td>37</td>\n",
       "      <td>10</td>\n",
       "      <td>5</td>\n",
       "      <td>0</td>\n",
       "      <td>15</td>\n",
       "      <td>0.00</td>\n",
       "    </tr>\n",
       "    <tr>\n",
       "      <th>264166</th>\n",
       "      <td>264166</td>\n",
       "      <td>519752</td>\n",
       "      <td>519753</td>\n",
       "      <td>What is scientific proof or explanation for gh...</td>\n",
       "      <td>Can science explain the existence of ghosts?</td>\n",
       "      <td>0</td>\n",
       "      <td>51</td>\n",
       "      <td>44</td>\n",
       "      <td>8</td>\n",
       "      <td>7</td>\n",
       "      <td>1</td>\n",
       "      <td>15</td>\n",
       "      <td>0.07</td>\n",
       "    </tr>\n",
       "    <tr>\n",
       "      <th>307014</th>\n",
       "      <td>307014</td>\n",
       "      <td>602760</td>\n",
       "      <td>602761</td>\n",
       "      <td>Which places I should visit in jaipur?</td>\n",
       "      <td>Which places one should visit in chandigarh?</td>\n",
       "      <td>0</td>\n",
       "      <td>38</td>\n",
       "      <td>44</td>\n",
       "      <td>7</td>\n",
       "      <td>7</td>\n",
       "      <td>5</td>\n",
       "      <td>14</td>\n",
       "      <td>0.36</td>\n",
       "    </tr>\n",
       "    <tr>\n",
       "      <th>256448</th>\n",
       "      <td>256448</td>\n",
       "      <td>504767</td>\n",
       "      <td>504768</td>\n",
       "      <td>What was the Boxer Rebellion?</td>\n",
       "      <td>What was the Boxer Rebellion about?</td>\n",
       "      <td>1</td>\n",
       "      <td>29</td>\n",
       "      <td>35</td>\n",
       "      <td>5</td>\n",
       "      <td>6</td>\n",
       "      <td>4</td>\n",
       "      <td>11</td>\n",
       "      <td>0.36</td>\n",
       "    </tr>\n",
       "  </tbody>\n",
       "</table>\n",
       "</div>"
      ],
      "text/plain": [
       "            id    qid1    qid2  \\\n",
       "33270    33270   66310   66311   \n",
       "105697  105697  209646  209647   \n",
       "264166  264166  519752  519753   \n",
       "307014  307014  602760  602761   \n",
       "256448  256448  504767  504768   \n",
       "\n",
       "                                                question1  \\\n",
       "33270          How do you turn on a Honeywell thermostat?   \n",
       "105697  What are some of the reasons for not wearing j...   \n",
       "264166  What is scientific proof or explanation for gh...   \n",
       "307014             Which places I should visit in jaipur?   \n",
       "256448                      What was the Boxer Rebellion?   \n",
       "\n",
       "                                           question2  is_duplicate  Length_Q1  \\\n",
       "33270         How do you set a Honeywell Thermostat?             0         42   \n",
       "105697         Which satellite does Multichoice use?             0         51   \n",
       "264166  Can science explain the existence of ghosts?             0         51   \n",
       "307014  Which places one should visit in chandigarh?             0         38   \n",
       "256448           What was the Boxer Rebellion about?             1         29   \n",
       "\n",
       "        Length_Q2  #_words_Q1  #_words_Q2  #_common_words  Total_Words  \\\n",
       "33270          38           8           7               6           15   \n",
       "105697         37          10           5               0           15   \n",
       "264166         44           8           7               1           15   \n",
       "307014         44           7           7               5           14   \n",
       "256448         35           5           6               4           11   \n",
       "\n",
       "        Share_Words  \n",
       "33270          0.40  \n",
       "105697         0.00  \n",
       "264166         0.07  \n",
       "307014         0.36  \n",
       "256448         0.36  "
      ]
     },
     "execution_count": 159,
     "metadata": {},
     "output_type": "execute_result"
    }
   ],
   "source": [
    "NEW_df.head()\n",
    "\n",
    "# As per the results we can see that our last feature is also added named Share_Words"
   ]
  },
  {
   "cell_type": "code",
   "execution_count": 160,
   "metadata": {},
   "outputs": [
    {
     "name": "stdout",
     "output_type": "stream",
     "text": [
      "Minimum Characters Per Question:-  1\n",
      "Maximum Characters Per Question:-  413\n",
      "Average Number of Characters Per Question:-  59\n"
     ]
    },
    {
     "data": {
      "image/png": "[encoded data removed]",
      "text/plain": [
       "<Figure size 360x360 with 1 Axes>"
      ]
     },
     "metadata": {
      "needs_background": "light"
     },
     "output_type": "display_data"
    }
   ],
   "source": [
    "# Now let's do a quick analysis of our features so that we can check that everything is going good or not\n",
    "# Let's start with our 1st feature \"Length_Q1\"\n",
    "\n",
    "sns.displot(NEW_df['Length_Q1'])\n",
    "print('Minimum Characters Per Question:- ',NEW_df['Length_Q1'].min())\n",
    "print('Maximum Characters Per Question:- ',NEW_df['Length_Q1'].max())\n",
    "print('Average Number of Characters Per Question:- ',int(NEW_df['Length_Q1'].mean()))\n",
    "\n",
    "# as per the EDA we can say that there are\n",
    "# Minimum Characters Per Question:-  1\n",
    "# Maximum Characters Per Question:-  413\n",
    "# Average Number of Characters Per Question:-  59"
   ]
  },
  {
   "cell_type": "code",
   "execution_count": 161,
   "metadata": {},
   "outputs": [
    {
     "name": "stdout",
     "output_type": "stream",
     "text": [
      "Minimum Characters Per Question:-  5\n",
      "Maximum Characters Per Question:-  364\n",
      "Average Number of Characters Per Question:-  60\n"
     ]
    },
    {
     "data": {
      "image/png": "[encoded data removed]",
      "text/plain": [
       "<Figure size 360x360 with 1 Axes>"
      ]
     },
     "metadata": {
      "needs_background": "light"
     },
     "output_type": "display_data"
    }
   ],
   "source": [
    "# Data Visualization for 2nd feature \"Length_Q2\"\n",
    "\n",
    "sns.displot(NEW_df['Length_Q2'])\n",
    "print('Minimum Characters Per Question:- ',NEW_df['Length_Q2'].min())\n",
    "print('Maximum Characters Per Question:- ',NEW_df['Length_Q2'].max())\n",
    "print('Average Number of Characters Per Question:- ',int(NEW_df['Length_Q2'].mean()))\n",
    "\n",
    "# as per the EDA we can say that there are\n",
    "# Minimum Characters Per Question:-  5\n",
    "# Maximum Characters Per Question:-  364\n",
    "# Average Number of Characters Per Question:-  60"
   ]
  },
  {
   "cell_type": "code",
   "execution_count": 162,
   "metadata": {},
   "outputs": [
    {
     "name": "stdout",
     "output_type": "stream",
     "text": [
      "Minimum Characters Per Question 1\n",
      "Maximum Characters Per Question 79\n",
      "Average Number of Characters Per Question 10\n"
     ]
    },
    {
     "data": {
      "image/png": "[encoded data removed]",
      "text/plain": [
       "<Figure size 360x360 with 1 Axes>"
      ]
     },
     "metadata": {
      "needs_background": "light"
     },
     "output_type": "display_data"
    }
   ],
   "source": [
    "# Data Visualization for 3rd feature \"#_words_Q1\"\n",
    "\n",
    "sns.displot(NEW_df['#_words_Q1'])\n",
    "print('Minimum Characters Per Question',NEW_df['#_words_Q1'].min())\n",
    "print('Maximum Characters Per Question',NEW_df['#_words_Q1'].max())\n",
    "print('Average Number of Characters Per Question',int(NEW_df['#_words_Q1'].mean()))\n",
    "\n",
    "# as per the EDA we can say that there are\n",
    "# Minimum Characters Per Question:-  1\n",
    "# Maximum Characters Per Question:-  79\n",
    "# Average Number of Characters Per Question:-  10"
   ]
  },
  {
   "cell_type": "code",
   "execution_count": 163,
   "metadata": {},
   "outputs": [
    {
     "name": "stdout",
     "output_type": "stream",
     "text": [
      "Minimum Characters Per Question 2\n",
      "Maximum Characters Per Question 77\n",
      "Average Number of Characters Per Question 11\n"
     ]
    },
    {
     "data": {
      "image/png": "[encoded data removed]",
      "text/plain": [
       "<Figure size 360x360 with 1 Axes>"
      ]
     },
     "metadata": {
      "needs_background": "light"
     },
     "output_type": "display_data"
    }
   ],
   "source": [
    "# Data Visualization for 4th feature \"#_words_Q2\"\n",
    "\n",
    "sns.displot(NEW_df['#_words_Q2'])\n",
    "print('Minimum Characters Per Question',NEW_df['#_words_Q2'].min())\n",
    "print('Maximum Characters Per Question',NEW_df['#_words_Q2'].max())\n",
    "print('Average Number of Characters Per Question',int(NEW_df['#_words_Q2'].mean()))\n",
    "\n",
    "# as per the EDA we can say that there are\n",
    "# Minimum Characters Per Question:-  2\n",
    "# Maximum Characters Per Question:-  77\n",
    "# Average Number of Characters Per Question:-  11"
   ]
  },
  {
   "cell_type": "code",
   "execution_count": 164,
   "metadata": {},
   "outputs": [
    {
     "name": "stderr",
     "output_type": "stream",
     "text": [
      "/Users/kushjani/opt/anaconda3/lib/python3.9/site-packages/seaborn/distributions.py:2619: FutureWarning: `distplot` is a deprecated function and will be removed in a future version. Please adapt your code to use either `displot` (a figure-level function with similar flexibility) or `histplot` (an axes-level function for histograms).\n",
      "  warnings.warn(msg, FutureWarning)\n",
      "/Users/kushjani/opt/anaconda3/lib/python3.9/site-packages/seaborn/distributions.py:2619: FutureWarning: `distplot` is a deprecated function and will be removed in a future version. Please adapt your code to use either `displot` (a figure-level function with similar flexibility) or `histplot` (an axes-level function for histograms).\n",
      "  warnings.warn(msg, FutureWarning)\n"
     ]
    },
    {
     "data": {
      "image/png": "[encoded data removed]",
      "text/plain": [
       "<Figure size 432x288 with 1 Axes>"
      ]
     },
     "metadata": {
      "needs_background": "light"
     },
     "output_type": "display_data"
    }
   ],
   "source": [
    "# Here in EDA for Non-Diplicate and Duplicate we will use differenst visualization, instead of using displot we will use distplot which \n",
    "# will be differentiate between 2 categories which are Non-Diplicate and Duplicate one.\n",
    "\n",
    "# Data Visualization for 5th feature \"#_common_words\"\n",
    "\n",
    "sns.distplot(NEW_df[NEW_df['is_duplicate'] == 0]['#_common_words'],label='non duplicate')\n",
    "sns.distplot(NEW_df[NEW_df['is_duplicate'] == 1]['#_common_words'],label='duplicate')\n",
    "plt.legend()\n",
    "plt.show()"
   ]
  },
  {
   "cell_type": "code",
   "execution_count": 165,
   "metadata": {},
   "outputs": [
    {
     "name": "stderr",
     "output_type": "stream",
     "text": [
      "/Users/kushjani/opt/anaconda3/lib/python3.9/site-packages/seaborn/distributions.py:2619: FutureWarning: `distplot` is a deprecated function and will be removed in a future version. Please adapt your code to use either `displot` (a figure-level function with similar flexibility) or `histplot` (an axes-level function for histograms).\n",
      "  warnings.warn(msg, FutureWarning)\n",
      "/Users/kushjani/opt/anaconda3/lib/python3.9/site-packages/seaborn/distributions.py:2619: FutureWarning: `distplot` is a deprecated function and will be removed in a future version. Please adapt your code to use either `displot` (a figure-level function with similar flexibility) or `histplot` (an axes-level function for histograms).\n",
      "  warnings.warn(msg, FutureWarning)\n"
     ]
    },
    {
     "data": {
      "image/png": "[encoded data removed]",
      "text/plain": [
       "<Figure size 432x288 with 1 Axes>"
      ]
     },
     "metadata": {
      "needs_background": "light"
     },
     "output_type": "display_data"
    }
   ],
   "source": [
    "# Data Visualization for 6th feature \"Total_Words\"\n",
    "\n",
    "sns.distplot(NEW_df[NEW_df['is_duplicate'] == 0]['Total_Words'],label='non duplicate')\n",
    "sns.distplot(NEW_df[NEW_df['is_duplicate'] == 1]['Total_Words'],label='duplicate')\n",
    "plt.legend()\n",
    "plt.show()"
   ]
  },
  {
   "cell_type": "code",
   "execution_count": 166,
   "metadata": {},
   "outputs": [
    {
     "name": "stderr",
     "output_type": "stream",
     "text": [
      "/Users/kushjani/opt/anaconda3/lib/python3.9/site-packages/seaborn/distributions.py:2619: FutureWarning: `distplot` is a deprecated function and will be removed in a future version. Please adapt your code to use either `displot` (a figure-level function with similar flexibility) or `histplot` (an axes-level function for histograms).\n",
      "  warnings.warn(msg, FutureWarning)\n",
      "/Users/kushjani/opt/anaconda3/lib/python3.9/site-packages/seaborn/distributions.py:2619: FutureWarning: `distplot` is a deprecated function and will be removed in a future version. Please adapt your code to use either `displot` (a figure-level function with similar flexibility) or `histplot` (an axes-level function for histograms).\n",
      "  warnings.warn(msg, FutureWarning)\n"
     ]
    },
    {
     "data": {
      "image/png": "[encoded data removed]",
      "text/plain": [
       "<Figure size 432x288 with 1 Axes>"
      ]
     },
     "metadata": {
      "needs_background": "light"
     },
     "output_type": "display_data"
    }
   ],
   "source": [
    "# Data Visualization for 7th and last feature \"Share_Words\"\n",
    "\n",
    "sns.distplot(NEW_df[NEW_df['is_duplicate'] == 0]['Share_Words'],label='non duplicate')\n",
    "sns.distplot(NEW_df[NEW_df['is_duplicate'] == 1]['Share_Words'],label='duplicate')\n",
    "plt.legend()\n",
    "plt.show()"
   ]
  },
  {
   "cell_type": "code",
   "execution_count": 167,
   "metadata": {},
   "outputs": [],
   "source": [
    "# Now we will make two different data frames in which we will store 2 kind of different data\n",
    "# First is Questions_df in which we will store only questions\n",
    "# Second is Final_df in which we will store is_duplicate and our seven features"
   ]
  },
  {
   "cell_type": "code",
   "execution_count": 168,
   "metadata": {},
   "outputs": [],
   "source": [
    "Questions_df = NEW_df[['question1','question2']]"
   ]
  },
  {
   "cell_type": "code",
   "execution_count": 169,
   "metadata": {},
   "outputs": [
    {
     "data": {
      "text/html": [
       "<div>\n",
       "<style scoped>\n",
       "    .dataframe tbody tr th:only-of-type {\n",
       "        vertical-align: middle;\n",
       "    }\n",
       "\n",
       "    .dataframe tbody tr th {\n",
       "        vertical-align: top;\n",
       "    }\n",
       "\n",
       "    .dataframe thead th {\n",
       "        text-align: right;\n",
       "    }\n",
       "</style>\n",
       "<table border=\"1\" class=\"dataframe\">\n",
       "  <thead>\n",
       "    <tr style=\"text-align: right;\">\n",
       "      <th></th>\n",
       "      <th>question1</th>\n",
       "      <th>question2</th>\n",
       "    </tr>\n",
       "  </thead>\n",
       "  <tbody>\n",
       "    <tr>\n",
       "      <th>33270</th>\n",
       "      <td>How do you turn on a Honeywell thermostat?</td>\n",
       "      <td>How do you set a Honeywell Thermostat?</td>\n",
       "    </tr>\n",
       "    <tr>\n",
       "      <th>105697</th>\n",
       "      <td>What are some of the reasons for not wearing j...</td>\n",
       "      <td>Which satellite does Multichoice use?</td>\n",
       "    </tr>\n",
       "    <tr>\n",
       "      <th>264166</th>\n",
       "      <td>What is scientific proof or explanation for gh...</td>\n",
       "      <td>Can science explain the existence of ghosts?</td>\n",
       "    </tr>\n",
       "    <tr>\n",
       "      <th>307014</th>\n",
       "      <td>Which places I should visit in jaipur?</td>\n",
       "      <td>Which places one should visit in chandigarh?</td>\n",
       "    </tr>\n",
       "    <tr>\n",
       "      <th>256448</th>\n",
       "      <td>What was the Boxer Rebellion?</td>\n",
       "      <td>What was the Boxer Rebellion about?</td>\n",
       "    </tr>\n",
       "  </tbody>\n",
       "</table>\n",
       "</div>"
      ],
      "text/plain": [
       "                                                question1  \\\n",
       "33270          How do you turn on a Honeywell thermostat?   \n",
       "105697  What are some of the reasons for not wearing j...   \n",
       "264166  What is scientific proof or explanation for gh...   \n",
       "307014             Which places I should visit in jaipur?   \n",
       "256448                      What was the Boxer Rebellion?   \n",
       "\n",
       "                                           question2  \n",
       "33270         How do you set a Honeywell Thermostat?  \n",
       "105697         Which satellite does Multichoice use?  \n",
       "264166  Can science explain the existence of ghosts?  \n",
       "307014  Which places one should visit in chandigarh?  \n",
       "256448           What was the Boxer Rebellion about?  "
      ]
     },
     "execution_count": 169,
     "metadata": {},
     "output_type": "execute_result"
    }
   ],
   "source": [
    "Questions_df.head()"
   ]
  },
  {
   "cell_type": "code",
   "execution_count": 170,
   "metadata": {},
   "outputs": [],
   "source": [
    "Final_df = NEW_df.drop(columns=['id','qid1','qid2','question1','question2'])"
   ]
  },
  {
   "cell_type": "code",
   "execution_count": 171,
   "metadata": {},
   "outputs": [
    {
     "data": {
      "text/html": [
       "<div>\n",
       "<style scoped>\n",
       "    .dataframe tbody tr th:only-of-type {\n",
       "        vertical-align: middle;\n",
       "    }\n",
       "\n",
       "    .dataframe tbody tr th {\n",
       "        vertical-align: top;\n",
       "    }\n",
       "\n",
       "    .dataframe thead th {\n",
       "        text-align: right;\n",
       "    }\n",
       "</style>\n",
       "<table border=\"1\" class=\"dataframe\">\n",
       "  <thead>\n",
       "    <tr style=\"text-align: right;\">\n",
       "      <th></th>\n",
       "      <th>is_duplicate</th>\n",
       "      <th>Length_Q1</th>\n",
       "      <th>Length_Q2</th>\n",
       "      <th>#_words_Q1</th>\n",
       "      <th>#_words_Q2</th>\n",
       "      <th>#_common_words</th>\n",
       "      <th>Total_Words</th>\n",
       "      <th>Share_Words</th>\n",
       "    </tr>\n",
       "  </thead>\n",
       "  <tbody>\n",
       "    <tr>\n",
       "      <th>33270</th>\n",
       "      <td>0</td>\n",
       "      <td>42</td>\n",
       "      <td>38</td>\n",
       "      <td>8</td>\n",
       "      <td>7</td>\n",
       "      <td>6</td>\n",
       "      <td>15</td>\n",
       "      <td>0.40</td>\n",
       "    </tr>\n",
       "    <tr>\n",
       "      <th>105697</th>\n",
       "      <td>0</td>\n",
       "      <td>51</td>\n",
       "      <td>37</td>\n",
       "      <td>10</td>\n",
       "      <td>5</td>\n",
       "      <td>0</td>\n",
       "      <td>15</td>\n",
       "      <td>0.00</td>\n",
       "    </tr>\n",
       "    <tr>\n",
       "      <th>264166</th>\n",
       "      <td>0</td>\n",
       "      <td>51</td>\n",
       "      <td>44</td>\n",
       "      <td>8</td>\n",
       "      <td>7</td>\n",
       "      <td>1</td>\n",
       "      <td>15</td>\n",
       "      <td>0.07</td>\n",
       "    </tr>\n",
       "    <tr>\n",
       "      <th>307014</th>\n",
       "      <td>0</td>\n",
       "      <td>38</td>\n",
       "      <td>44</td>\n",
       "      <td>7</td>\n",
       "      <td>7</td>\n",
       "      <td>5</td>\n",
       "      <td>14</td>\n",
       "      <td>0.36</td>\n",
       "    </tr>\n",
       "    <tr>\n",
       "      <th>256448</th>\n",
       "      <td>1</td>\n",
       "      <td>29</td>\n",
       "      <td>35</td>\n",
       "      <td>5</td>\n",
       "      <td>6</td>\n",
       "      <td>4</td>\n",
       "      <td>11</td>\n",
       "      <td>0.36</td>\n",
       "    </tr>\n",
       "    <tr>\n",
       "      <th>...</th>\n",
       "      <td>...</td>\n",
       "      <td>...</td>\n",
       "      <td>...</td>\n",
       "      <td>...</td>\n",
       "      <td>...</td>\n",
       "      <td>...</td>\n",
       "      <td>...</td>\n",
       "      <td>...</td>\n",
       "    </tr>\n",
       "    <tr>\n",
       "      <th>83865</th>\n",
       "      <td>0</td>\n",
       "      <td>17</td>\n",
       "      <td>14</td>\n",
       "      <td>4</td>\n",
       "      <td>4</td>\n",
       "      <td>2</td>\n",
       "      <td>8</td>\n",
       "      <td>0.25</td>\n",
       "    </tr>\n",
       "    <tr>\n",
       "      <th>401769</th>\n",
       "      <td>0</td>\n",
       "      <td>30</td>\n",
       "      <td>46</td>\n",
       "      <td>5</td>\n",
       "      <td>7</td>\n",
       "      <td>3</td>\n",
       "      <td>12</td>\n",
       "      <td>0.25</td>\n",
       "    </tr>\n",
       "    <tr>\n",
       "      <th>29606</th>\n",
       "      <td>1</td>\n",
       "      <td>43</td>\n",
       "      <td>40</td>\n",
       "      <td>9</td>\n",
       "      <td>7</td>\n",
       "      <td>5</td>\n",
       "      <td>16</td>\n",
       "      <td>0.31</td>\n",
       "    </tr>\n",
       "    <tr>\n",
       "      <th>393107</th>\n",
       "      <td>0</td>\n",
       "      <td>44</td>\n",
       "      <td>34</td>\n",
       "      <td>9</td>\n",
       "      <td>7</td>\n",
       "      <td>3</td>\n",
       "      <td>16</td>\n",
       "      <td>0.19</td>\n",
       "    </tr>\n",
       "    <tr>\n",
       "      <th>67253</th>\n",
       "      <td>0</td>\n",
       "      <td>94</td>\n",
       "      <td>59</td>\n",
       "      <td>16</td>\n",
       "      <td>11</td>\n",
       "      <td>3</td>\n",
       "      <td>27</td>\n",
       "      <td>0.11</td>\n",
       "    </tr>\n",
       "  </tbody>\n",
       "</table>\n",
       "<p>30000 rows × 8 columns</p>\n",
       "</div>"
      ],
      "text/plain": [
       "        is_duplicate  Length_Q1  Length_Q2  #_words_Q1  #_words_Q2  \\\n",
       "33270              0         42         38           8           7   \n",
       "105697             0         51         37          10           5   \n",
       "264166             0         51         44           8           7   \n",
       "307014             0         38         44           7           7   \n",
       "256448             1         29         35           5           6   \n",
       "...              ...        ...        ...         ...         ...   \n",
       "83865              0         17         14           4           4   \n",
       "401769             0         30         46           5           7   \n",
       "29606              1         43         40           9           7   \n",
       "393107             0         44         34           9           7   \n",
       "67253              0         94         59          16          11   \n",
       "\n",
       "        #_common_words  Total_Words  Share_Words  \n",
       "33270                6           15         0.40  \n",
       "105697               0           15         0.00  \n",
       "264166               1           15         0.07  \n",
       "307014               5           14         0.36  \n",
       "256448               4           11         0.36  \n",
       "...                ...          ...          ...  \n",
       "83865                2            8         0.25  \n",
       "401769               3           12         0.25  \n",
       "29606                5           16         0.31  \n",
       "393107               3           16         0.19  \n",
       "67253                3           27         0.11  \n",
       "\n",
       "[30000 rows x 8 columns]"
      ]
     },
     "execution_count": 171,
     "metadata": {},
     "output_type": "execute_result"
    }
   ],
   "source": [
    "Final_df"
   ]
  },
  {
   "cell_type": "code",
   "execution_count": 172,
   "metadata": {},
   "outputs": [],
   "source": [
    "from sklearn.feature_extraction.text import CountVectorizer   # Here we import CountVectorizer funtion from feature_extraction.text class of sklearn library for merging texts\n",
    "# Here we will use Count Vectorizer function for merging texts\n",
    "Ques = list(Questions_df['question1']) + list(Questions_df['question2'])\n",
    "\n",
    "cv = CountVectorizer(max_features=3000)\n",
    "q1_arr, q2_arr = np.vsplit(cv.fit_transform(Ques).toarray(),2)"
   ]
  },
  {
   "cell_type": "code",
   "execution_count": 173,
   "metadata": {},
   "outputs": [
    {
     "data": {
      "text/plain": [
       "(30000, 6000)"
      ]
     },
     "execution_count": 173,
     "metadata": {},
     "output_type": "execute_result"
    }
   ],
   "source": [
    "temp_df1 = pd.DataFrame(q1_arr, index= Questions_df.index)\n",
    "temp_df2 = pd.DataFrame(q2_arr, index= Questions_df.index)\n",
    "temp_df = pd.concat([temp_df1, temp_df2], axis=1)\n",
    "temp_df.shape"
   ]
  },
  {
   "cell_type": "code",
   "execution_count": 174,
   "metadata": {},
   "outputs": [
    {
     "name": "stdout",
     "output_type": "stream",
     "text": [
      "(30000, 6008)\n"
     ]
    },
    {
     "data": {
      "text/html": [
       "<div>\n",
       "<style scoped>\n",
       "    .dataframe tbody tr th:only-of-type {\n",
       "        vertical-align: middle;\n",
       "    }\n",
       "\n",
       "    .dataframe tbody tr th {\n",
       "        vertical-align: top;\n",
       "    }\n",
       "\n",
       "    .dataframe thead th {\n",
       "        text-align: right;\n",
       "    }\n",
       "</style>\n",
       "<table border=\"1\" class=\"dataframe\">\n",
       "  <thead>\n",
       "    <tr style=\"text-align: right;\">\n",
       "      <th></th>\n",
       "      <th>is_duplicate</th>\n",
       "      <th>Length_Q1</th>\n",
       "      <th>Length_Q2</th>\n",
       "      <th>#_words_Q1</th>\n",
       "      <th>#_words_Q2</th>\n",
       "      <th>#_common_words</th>\n",
       "      <th>Total_Words</th>\n",
       "      <th>Share_Words</th>\n",
       "      <th>0</th>\n",
       "      <th>1</th>\n",
       "      <th>...</th>\n",
       "      <th>2990</th>\n",
       "      <th>2991</th>\n",
       "      <th>2992</th>\n",
       "      <th>2993</th>\n",
       "      <th>2994</th>\n",
       "      <th>2995</th>\n",
       "      <th>2996</th>\n",
       "      <th>2997</th>\n",
       "      <th>2998</th>\n",
       "      <th>2999</th>\n",
       "    </tr>\n",
       "  </thead>\n",
       "  <tbody>\n",
       "    <tr>\n",
       "      <th>33270</th>\n",
       "      <td>0</td>\n",
       "      <td>42</td>\n",
       "      <td>38</td>\n",
       "      <td>8</td>\n",
       "      <td>7</td>\n",
       "      <td>6</td>\n",
       "      <td>15</td>\n",
       "      <td>0.40</td>\n",
       "      <td>0</td>\n",
       "      <td>0</td>\n",
       "      <td>...</td>\n",
       "      <td>0</td>\n",
       "      <td>0</td>\n",
       "      <td>1</td>\n",
       "      <td>0</td>\n",
       "      <td>0</td>\n",
       "      <td>0</td>\n",
       "      <td>0</td>\n",
       "      <td>0</td>\n",
       "      <td>0</td>\n",
       "      <td>0</td>\n",
       "    </tr>\n",
       "    <tr>\n",
       "      <th>105697</th>\n",
       "      <td>0</td>\n",
       "      <td>51</td>\n",
       "      <td>37</td>\n",
       "      <td>10</td>\n",
       "      <td>5</td>\n",
       "      <td>0</td>\n",
       "      <td>15</td>\n",
       "      <td>0.00</td>\n",
       "      <td>0</td>\n",
       "      <td>0</td>\n",
       "      <td>...</td>\n",
       "      <td>0</td>\n",
       "      <td>0</td>\n",
       "      <td>0</td>\n",
       "      <td>0</td>\n",
       "      <td>0</td>\n",
       "      <td>0</td>\n",
       "      <td>0</td>\n",
       "      <td>0</td>\n",
       "      <td>0</td>\n",
       "      <td>0</td>\n",
       "    </tr>\n",
       "    <tr>\n",
       "      <th>264166</th>\n",
       "      <td>0</td>\n",
       "      <td>51</td>\n",
       "      <td>44</td>\n",
       "      <td>8</td>\n",
       "      <td>7</td>\n",
       "      <td>1</td>\n",
       "      <td>15</td>\n",
       "      <td>0.07</td>\n",
       "      <td>0</td>\n",
       "      <td>0</td>\n",
       "      <td>...</td>\n",
       "      <td>0</td>\n",
       "      <td>0</td>\n",
       "      <td>0</td>\n",
       "      <td>0</td>\n",
       "      <td>0</td>\n",
       "      <td>0</td>\n",
       "      <td>0</td>\n",
       "      <td>0</td>\n",
       "      <td>0</td>\n",
       "      <td>0</td>\n",
       "    </tr>\n",
       "    <tr>\n",
       "      <th>307014</th>\n",
       "      <td>0</td>\n",
       "      <td>38</td>\n",
       "      <td>44</td>\n",
       "      <td>7</td>\n",
       "      <td>7</td>\n",
       "      <td>5</td>\n",
       "      <td>14</td>\n",
       "      <td>0.36</td>\n",
       "      <td>0</td>\n",
       "      <td>0</td>\n",
       "      <td>...</td>\n",
       "      <td>0</td>\n",
       "      <td>0</td>\n",
       "      <td>0</td>\n",
       "      <td>0</td>\n",
       "      <td>0</td>\n",
       "      <td>0</td>\n",
       "      <td>0</td>\n",
       "      <td>0</td>\n",
       "      <td>0</td>\n",
       "      <td>0</td>\n",
       "    </tr>\n",
       "    <tr>\n",
       "      <th>256448</th>\n",
       "      <td>1</td>\n",
       "      <td>29</td>\n",
       "      <td>35</td>\n",
       "      <td>5</td>\n",
       "      <td>6</td>\n",
       "      <td>4</td>\n",
       "      <td>11</td>\n",
       "      <td>0.36</td>\n",
       "      <td>0</td>\n",
       "      <td>0</td>\n",
       "      <td>...</td>\n",
       "      <td>0</td>\n",
       "      <td>0</td>\n",
       "      <td>0</td>\n",
       "      <td>0</td>\n",
       "      <td>0</td>\n",
       "      <td>0</td>\n",
       "      <td>0</td>\n",
       "      <td>0</td>\n",
       "      <td>0</td>\n",
       "      <td>0</td>\n",
       "    </tr>\n",
       "  </tbody>\n",
       "</table>\n",
       "<p>5 rows × 6008 columns</p>\n",
       "</div>"
      ],
      "text/plain": [
       "        is_duplicate  Length_Q1  Length_Q2  #_words_Q1  #_words_Q2  \\\n",
       "33270              0         42         38           8           7   \n",
       "105697             0         51         37          10           5   \n",
       "264166             0         51         44           8           7   \n",
       "307014             0         38         44           7           7   \n",
       "256448             1         29         35           5           6   \n",
       "\n",
       "        #_common_words  Total_Words  Share_Words  0  1  ...  2990  2991  2992  \\\n",
       "33270                6           15         0.40  0  0  ...     0     0     1   \n",
       "105697               0           15         0.00  0  0  ...     0     0     0   \n",
       "264166               1           15         0.07  0  0  ...     0     0     0   \n",
       "307014               5           14         0.36  0  0  ...     0     0     0   \n",
       "256448               4           11         0.36  0  0  ...     0     0     0   \n",
       "\n",
       "        2993  2994  2995  2996  2997  2998  2999  \n",
       "33270      0     0     0     0     0     0     0  \n",
       "105697     0     0     0     0     0     0     0  \n",
       "264166     0     0     0     0     0     0     0  \n",
       "307014     0     0     0     0     0     0     0  \n",
       "256448     0     0     0     0     0     0     0  \n",
       "\n",
       "[5 rows x 6008 columns]"
      ]
     },
     "execution_count": 174,
     "metadata": {},
     "output_type": "execute_result"
    }
   ],
   "source": [
    "Final_df = pd.concat([Final_df, temp_df], axis=1)\n",
    "print(Final_df.shape)\n",
    "Final_df.head()"
   ]
  },
  {
   "cell_type": "code",
   "execution_count": 175,
   "metadata": {},
   "outputs": [],
   "source": [
    "from sklearn.model_selection import train_test_split\n",
    "X_train,X_test,y_train,y_test = train_test_split(Final_df.iloc[:,1:].values,Final_df.iloc[:,0].values,test_size=0.2,random_state=1)"
   ]
  },
  {
   "cell_type": "code",
   "execution_count": 176,
   "metadata": {},
   "outputs": [],
   "source": [
    "from sklearn.ensemble import RandomForestClassifier\n",
    "from sklearn.metrics import accuracy_score\n",
    "rf = RandomForestClassifier()\n",
    "rf.fit(X_train,y_train)\n",
    "y_pred = rf.predict(X_test)\n",
    "ac = accuracy_score(y_test,y_pred                   "
   ]
  },
  {
   "cell_type": "code",
   "execution_count": 179,
   "metadata": {},
   "outputs": [
    {
     "name": "stdout",
     "output_type": "stream",
     "text": [
      "75.98333333333333\n"
     ]
    }
   ],
   "source": [
    "# RandomForestClassifier Accuracy Percentage\n",
    "ac_score = ac*100\n",
    "print(ac_score)\n",
    "\n",
    "# Before when we run the model over accuracy was only 61.21666%, after adding seven new features we do a improvement of \n",
    "# 14-15%, that is really great"
   ]
  },
  {
   "cell_type": "code",
   "execution_count": 181,
   "metadata": {},
   "outputs": [],
   "source": [
    "from xgboost import XGBClassifier\n",
    "xgb = XGBClassifier()\n",
    "xgb.fit(X_train,y_train)\n",
    "y_pred1 = xgb.predict(X_test)\n",
    "xgb_ac = accuracy_score(y_test,y_pred1)"
   ]
  },
  {
   "cell_type": "code",
   "execution_count": 182,
   "metadata": {},
   "outputs": [
    {
     "name": "stdout",
     "output_type": "stream",
     "text": [
      "75.36666666666667\n"
     ]
    }
   ],
   "source": [
    "# XGBClassifier Accuracy Percentage\n",
    "xgb_ac_score = xgb_ac*100\n",
    "print(xgb_ac_score)\n",
    "\n",
    "# Before when we run the model over accuracy was only 62.4%, after adding seven new features we do a improvement of \n",
    "# 13-14%, that is really great"
   ]
  },
  {
   "cell_type": "code",
   "execution_count": 183,
   "metadata": {},
   "outputs": [],
   "source": [
    "# To improve more we will do Advance feature engineering"
   ]
  },
  {
   "cell_type": "code",
   "execution_count": null,
   "metadata": {},
   "outputs": [],
   "source": [
    " "
   ]
  }
 ],
 "metadata": {
  "colab": {
   "name": "NLP_Project.ipynb",
   "provenance": []
  },
  "kernelspec": {
   "display_name": "Python 3 (ipykernel)",
   "language": "python",
   "name": "python3"
  },
  "language_info": {
   "codemirror_mode": {
    "name": "ipython",
    "version": 3
   },
   "file_extension": ".py",
   "mimetype": "text/x-python",
   "name": "python",
   "nbconvert_exporter": "python",
   "pygments_lexer": "ipython3",
   "version": "3.9.7"
  }
 },
 "nbformat": 4,
 "nbformat_minor": 1
}
